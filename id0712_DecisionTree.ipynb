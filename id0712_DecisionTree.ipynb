{
  "cells": [
    {
      "cell_type": "markdown",
      "source": [
        "# 决策树的学习"
      ],
      "metadata": {
        "id": "YuOximJ_aZNf"
      }
    },
    {
      "cell_type": "markdown",
      "source": [
        "07/12\n"
      ],
      "metadata": {
        "id": "XGZbhlcLrrer"
      }
    },
    {
      "cell_type": "markdown",
      "source": [
        "## 1.1决策树的建模流程"
      ],
      "metadata": {
        "id": "kATMCTsKamcP"
      }
    },
    {
      "cell_type": "code",
      "source": [
        "from sklearn import tree\n",
        "clf = tree.DecisionTreeClassifier()\n",
        "clf = clf.fit(x_train, y_train)\n",
        "result = clf.score(x_test, y_test)"
      ],
      "metadata": {
        "id": "ozlnX-LGaa83"
      },
      "execution_count": null,
      "outputs": []
    },
    {
      "cell_type": "code",
      "source": [],
      "metadata": {
        "id": "ULoPxtdba66I"
      },
      "execution_count": null,
      "outputs": []
    },
    {
      "cell_type": "markdown",
      "source": [
        "### 2.1决策树的参数理解"
      ],
      "metadata": {
        "id": "4n8v_QeMa8ig"
      }
    },
    {
      "cell_type": "code",
      "source": [
        "'''\n",
        "参数： criterion{“gini”, “entropy”}, default=”gini”\n",
        "解释：决定不纯度的计算方法，不纯度度量，默认是gini\n",
        "'''\n",
        "\n"
      ],
      "metadata": {
        "id": "tvcN4cgZbBox"
      },
      "execution_count": null,
      "outputs": []
    },
    {
      "cell_type": "code",
      "source": [
        "# 导入相关模块\n",
        "from sklearn import tree\n",
        "from sklearn.datasets import load_wine\n",
        "from sklearn.model_selection import train_test_split"
      ],
      "metadata": {
        "id": "40rTaPSsbg07"
      },
      "execution_count": 1,
      "outputs": []
    },
    {
      "cell_type": "code",
      "source": [
        "# 加载数据\n",
        "wine = load_wine()\n"
      ],
      "metadata": {
        "id": "IYS3c935bxRL"
      },
      "execution_count": 3,
      "outputs": []
    },
    {
      "cell_type": "code",
      "source": [],
      "metadata": {
        "id": "L7W_byQQb8AK"
      },
      "execution_count": null,
      "outputs": []
    },
    {
      "cell_type": "code",
      "source": [
        "wine.data.shape"
      ],
      "metadata": {
        "colab": {
          "base_uri": "https://localhost:8080/"
        },
        "id": "XWsYyHKsb0RQ",
        "outputId": "334427c4-4bee-4d54-d6a5-f32fbf222ad1"
      },
      "execution_count": 4,
      "outputs": [
        {
          "output_type": "execute_result",
          "data": {
            "text/plain": [
              "(178, 13)"
            ]
          },
          "metadata": {},
          "execution_count": 4
        }
      ]
    },
    {
      "cell_type": "code",
      "source": [
        "wine.target"
      ],
      "metadata": {
        "colab": {
          "base_uri": "https://localhost:8080/"
        },
        "id": "OAstoPDbb9Sb",
        "outputId": "0809daeb-b421-472f-e751-1b0a5ff62d0e"
      },
      "execution_count": 5,
      "outputs": [
        {
          "output_type": "execute_result",
          "data": {
            "text/plain": [
              "array([0, 0, 0, 0, 0, 0, 0, 0, 0, 0, 0, 0, 0, 0, 0, 0, 0, 0, 0, 0, 0, 0,\n",
              "       0, 0, 0, 0, 0, 0, 0, 0, 0, 0, 0, 0, 0, 0, 0, 0, 0, 0, 0, 0, 0, 0,\n",
              "       0, 0, 0, 0, 0, 0, 0, 0, 0, 0, 0, 0, 0, 0, 0, 1, 1, 1, 1, 1, 1, 1,\n",
              "       1, 1, 1, 1, 1, 1, 1, 1, 1, 1, 1, 1, 1, 1, 1, 1, 1, 1, 1, 1, 1, 1,\n",
              "       1, 1, 1, 1, 1, 1, 1, 1, 1, 1, 1, 1, 1, 1, 1, 1, 1, 1, 1, 1, 1, 1,\n",
              "       1, 1, 1, 1, 1, 1, 1, 1, 1, 1, 1, 1, 1, 1, 1, 1, 1, 1, 1, 1, 2, 2,\n",
              "       2, 2, 2, 2, 2, 2, 2, 2, 2, 2, 2, 2, 2, 2, 2, 2, 2, 2, 2, 2, 2, 2,\n",
              "       2, 2, 2, 2, 2, 2, 2, 2, 2, 2, 2, 2, 2, 2, 2, 2, 2, 2, 2, 2, 2, 2,\n",
              "       2, 2])"
            ]
          },
          "metadata": {},
          "execution_count": 5
        }
      ]
    },
    {
      "cell_type": "code",
      "source": [
        "# 以一张表的形式展开\n",
        "import pandas as pd\n",
        "pd.concat([pd.DataFrame(wine.data), pd.DataFrame(wine.target)], axis = 1)\n"
      ],
      "metadata": {
        "colab": {
          "base_uri": "https://localhost:8080/",
          "height": 423
        },
        "id": "i-glbiM6b9dF",
        "outputId": "377f6129-be30-47ab-e6b5-d94afdbdac47"
      },
      "execution_count": 6,
      "outputs": [
        {
          "output_type": "execute_result",
          "data": {
            "text/plain": [
              "        0     1     2     3      4     5     6     7     8      9     10  \\\n",
              "0    14.23  1.71  2.43  15.6  127.0  2.80  3.06  0.28  2.29   5.64  1.04   \n",
              "1    13.20  1.78  2.14  11.2  100.0  2.65  2.76  0.26  1.28   4.38  1.05   \n",
              "2    13.16  2.36  2.67  18.6  101.0  2.80  3.24  0.30  2.81   5.68  1.03   \n",
              "3    14.37  1.95  2.50  16.8  113.0  3.85  3.49  0.24  2.18   7.80  0.86   \n",
              "4    13.24  2.59  2.87  21.0  118.0  2.80  2.69  0.39  1.82   4.32  1.04   \n",
              "..     ...   ...   ...   ...    ...   ...   ...   ...   ...    ...   ...   \n",
              "173  13.71  5.65  2.45  20.5   95.0  1.68  0.61  0.52  1.06   7.70  0.64   \n",
              "174  13.40  3.91  2.48  23.0  102.0  1.80  0.75  0.43  1.41   7.30  0.70   \n",
              "175  13.27  4.28  2.26  20.0  120.0  1.59  0.69  0.43  1.35  10.20  0.59   \n",
              "176  13.17  2.59  2.37  20.0  120.0  1.65  0.68  0.53  1.46   9.30  0.60   \n",
              "177  14.13  4.10  2.74  24.5   96.0  2.05  0.76  0.56  1.35   9.20  0.61   \n",
              "\n",
              "       11      12  0   \n",
              "0    3.92  1065.0   0  \n",
              "1    3.40  1050.0   0  \n",
              "2    3.17  1185.0   0  \n",
              "3    3.45  1480.0   0  \n",
              "4    2.93   735.0   0  \n",
              "..    ...     ...  ..  \n",
              "173  1.74   740.0   2  \n",
              "174  1.56   750.0   2  \n",
              "175  1.56   835.0   2  \n",
              "176  1.62   840.0   2  \n",
              "177  1.60   560.0   2  \n",
              "\n",
              "[178 rows x 14 columns]"
            ],
            "text/html": [
              "\n",
              "  <div id=\"df-220a53ce-9170-434a-a32c-4248bc1314ae\" class=\"colab-df-container\">\n",
              "    <div>\n",
              "<style scoped>\n",
              "    .dataframe tbody tr th:only-of-type {\n",
              "        vertical-align: middle;\n",
              "    }\n",
              "\n",
              "    .dataframe tbody tr th {\n",
              "        vertical-align: top;\n",
              "    }\n",
              "\n",
              "    .dataframe thead th {\n",
              "        text-align: right;\n",
              "    }\n",
              "</style>\n",
              "<table border=\"1\" class=\"dataframe\">\n",
              "  <thead>\n",
              "    <tr style=\"text-align: right;\">\n",
              "      <th></th>\n",
              "      <th>0</th>\n",
              "      <th>1</th>\n",
              "      <th>2</th>\n",
              "      <th>3</th>\n",
              "      <th>4</th>\n",
              "      <th>5</th>\n",
              "      <th>6</th>\n",
              "      <th>7</th>\n",
              "      <th>8</th>\n",
              "      <th>9</th>\n",
              "      <th>10</th>\n",
              "      <th>11</th>\n",
              "      <th>12</th>\n",
              "      <th>0</th>\n",
              "    </tr>\n",
              "  </thead>\n",
              "  <tbody>\n",
              "    <tr>\n",
              "      <th>0</th>\n",
              "      <td>14.23</td>\n",
              "      <td>1.71</td>\n",
              "      <td>2.43</td>\n",
              "      <td>15.6</td>\n",
              "      <td>127.0</td>\n",
              "      <td>2.80</td>\n",
              "      <td>3.06</td>\n",
              "      <td>0.28</td>\n",
              "      <td>2.29</td>\n",
              "      <td>5.64</td>\n",
              "      <td>1.04</td>\n",
              "      <td>3.92</td>\n",
              "      <td>1065.0</td>\n",
              "      <td>0</td>\n",
              "    </tr>\n",
              "    <tr>\n",
              "      <th>1</th>\n",
              "      <td>13.20</td>\n",
              "      <td>1.78</td>\n",
              "      <td>2.14</td>\n",
              "      <td>11.2</td>\n",
              "      <td>100.0</td>\n",
              "      <td>2.65</td>\n",
              "      <td>2.76</td>\n",
              "      <td>0.26</td>\n",
              "      <td>1.28</td>\n",
              "      <td>4.38</td>\n",
              "      <td>1.05</td>\n",
              "      <td>3.40</td>\n",
              "      <td>1050.0</td>\n",
              "      <td>0</td>\n",
              "    </tr>\n",
              "    <tr>\n",
              "      <th>2</th>\n",
              "      <td>13.16</td>\n",
              "      <td>2.36</td>\n",
              "      <td>2.67</td>\n",
              "      <td>18.6</td>\n",
              "      <td>101.0</td>\n",
              "      <td>2.80</td>\n",
              "      <td>3.24</td>\n",
              "      <td>0.30</td>\n",
              "      <td>2.81</td>\n",
              "      <td>5.68</td>\n",
              "      <td>1.03</td>\n",
              "      <td>3.17</td>\n",
              "      <td>1185.0</td>\n",
              "      <td>0</td>\n",
              "    </tr>\n",
              "    <tr>\n",
              "      <th>3</th>\n",
              "      <td>14.37</td>\n",
              "      <td>1.95</td>\n",
              "      <td>2.50</td>\n",
              "      <td>16.8</td>\n",
              "      <td>113.0</td>\n",
              "      <td>3.85</td>\n",
              "      <td>3.49</td>\n",
              "      <td>0.24</td>\n",
              "      <td>2.18</td>\n",
              "      <td>7.80</td>\n",
              "      <td>0.86</td>\n",
              "      <td>3.45</td>\n",
              "      <td>1480.0</td>\n",
              "      <td>0</td>\n",
              "    </tr>\n",
              "    <tr>\n",
              "      <th>4</th>\n",
              "      <td>13.24</td>\n",
              "      <td>2.59</td>\n",
              "      <td>2.87</td>\n",
              "      <td>21.0</td>\n",
              "      <td>118.0</td>\n",
              "      <td>2.80</td>\n",
              "      <td>2.69</td>\n",
              "      <td>0.39</td>\n",
              "      <td>1.82</td>\n",
              "      <td>4.32</td>\n",
              "      <td>1.04</td>\n",
              "      <td>2.93</td>\n",
              "      <td>735.0</td>\n",
              "      <td>0</td>\n",
              "    </tr>\n",
              "    <tr>\n",
              "      <th>...</th>\n",
              "      <td>...</td>\n",
              "      <td>...</td>\n",
              "      <td>...</td>\n",
              "      <td>...</td>\n",
              "      <td>...</td>\n",
              "      <td>...</td>\n",
              "      <td>...</td>\n",
              "      <td>...</td>\n",
              "      <td>...</td>\n",
              "      <td>...</td>\n",
              "      <td>...</td>\n",
              "      <td>...</td>\n",
              "      <td>...</td>\n",
              "      <td>...</td>\n",
              "    </tr>\n",
              "    <tr>\n",
              "      <th>173</th>\n",
              "      <td>13.71</td>\n",
              "      <td>5.65</td>\n",
              "      <td>2.45</td>\n",
              "      <td>20.5</td>\n",
              "      <td>95.0</td>\n",
              "      <td>1.68</td>\n",
              "      <td>0.61</td>\n",
              "      <td>0.52</td>\n",
              "      <td>1.06</td>\n",
              "      <td>7.70</td>\n",
              "      <td>0.64</td>\n",
              "      <td>1.74</td>\n",
              "      <td>740.0</td>\n",
              "      <td>2</td>\n",
              "    </tr>\n",
              "    <tr>\n",
              "      <th>174</th>\n",
              "      <td>13.40</td>\n",
              "      <td>3.91</td>\n",
              "      <td>2.48</td>\n",
              "      <td>23.0</td>\n",
              "      <td>102.0</td>\n",
              "      <td>1.80</td>\n",
              "      <td>0.75</td>\n",
              "      <td>0.43</td>\n",
              "      <td>1.41</td>\n",
              "      <td>7.30</td>\n",
              "      <td>0.70</td>\n",
              "      <td>1.56</td>\n",
              "      <td>750.0</td>\n",
              "      <td>2</td>\n",
              "    </tr>\n",
              "    <tr>\n",
              "      <th>175</th>\n",
              "      <td>13.27</td>\n",
              "      <td>4.28</td>\n",
              "      <td>2.26</td>\n",
              "      <td>20.0</td>\n",
              "      <td>120.0</td>\n",
              "      <td>1.59</td>\n",
              "      <td>0.69</td>\n",
              "      <td>0.43</td>\n",
              "      <td>1.35</td>\n",
              "      <td>10.20</td>\n",
              "      <td>0.59</td>\n",
              "      <td>1.56</td>\n",
              "      <td>835.0</td>\n",
              "      <td>2</td>\n",
              "    </tr>\n",
              "    <tr>\n",
              "      <th>176</th>\n",
              "      <td>13.17</td>\n",
              "      <td>2.59</td>\n",
              "      <td>2.37</td>\n",
              "      <td>20.0</td>\n",
              "      <td>120.0</td>\n",
              "      <td>1.65</td>\n",
              "      <td>0.68</td>\n",
              "      <td>0.53</td>\n",
              "      <td>1.46</td>\n",
              "      <td>9.30</td>\n",
              "      <td>0.60</td>\n",
              "      <td>1.62</td>\n",
              "      <td>840.0</td>\n",
              "      <td>2</td>\n",
              "    </tr>\n",
              "    <tr>\n",
              "      <th>177</th>\n",
              "      <td>14.13</td>\n",
              "      <td>4.10</td>\n",
              "      <td>2.74</td>\n",
              "      <td>24.5</td>\n",
              "      <td>96.0</td>\n",
              "      <td>2.05</td>\n",
              "      <td>0.76</td>\n",
              "      <td>0.56</td>\n",
              "      <td>1.35</td>\n",
              "      <td>9.20</td>\n",
              "      <td>0.61</td>\n",
              "      <td>1.60</td>\n",
              "      <td>560.0</td>\n",
              "      <td>2</td>\n",
              "    </tr>\n",
              "  </tbody>\n",
              "</table>\n",
              "<p>178 rows × 14 columns</p>\n",
              "</div>\n",
              "    <div class=\"colab-df-buttons\">\n",
              "\n",
              "  <div class=\"colab-df-container\">\n",
              "    <button class=\"colab-df-convert\" onclick=\"convertToInteractive('df-220a53ce-9170-434a-a32c-4248bc1314ae')\"\n",
              "            title=\"Convert this dataframe to an interactive table.\"\n",
              "            style=\"display:none;\">\n",
              "\n",
              "  <svg xmlns=\"http://www.w3.org/2000/svg\" height=\"24px\" viewBox=\"0 -960 960 960\">\n",
              "    <path d=\"M120-120v-720h720v720H120Zm60-500h600v-160H180v160Zm220 220h160v-160H400v160Zm0 220h160v-160H400v160ZM180-400h160v-160H180v160Zm440 0h160v-160H620v160ZM180-180h160v-160H180v160Zm440 0h160v-160H620v160Z\"/>\n",
              "  </svg>\n",
              "    </button>\n",
              "\n",
              "  <style>\n",
              "    .colab-df-container {\n",
              "      display:flex;\n",
              "      gap: 12px;\n",
              "    }\n",
              "\n",
              "    .colab-df-convert {\n",
              "      background-color: #E8F0FE;\n",
              "      border: none;\n",
              "      border-radius: 50%;\n",
              "      cursor: pointer;\n",
              "      display: none;\n",
              "      fill: #1967D2;\n",
              "      height: 32px;\n",
              "      padding: 0 0 0 0;\n",
              "      width: 32px;\n",
              "    }\n",
              "\n",
              "    .colab-df-convert:hover {\n",
              "      background-color: #E2EBFA;\n",
              "      box-shadow: 0px 1px 2px rgba(60, 64, 67, 0.3), 0px 1px 3px 1px rgba(60, 64, 67, 0.15);\n",
              "      fill: #174EA6;\n",
              "    }\n",
              "\n",
              "    .colab-df-buttons div {\n",
              "      margin-bottom: 4px;\n",
              "    }\n",
              "\n",
              "    [theme=dark] .colab-df-convert {\n",
              "      background-color: #3B4455;\n",
              "      fill: #D2E3FC;\n",
              "    }\n",
              "\n",
              "    [theme=dark] .colab-df-convert:hover {\n",
              "      background-color: #434B5C;\n",
              "      box-shadow: 0px 1px 3px 1px rgba(0, 0, 0, 0.15);\n",
              "      filter: drop-shadow(0px 1px 2px rgba(0, 0, 0, 0.3));\n",
              "      fill: #FFFFFF;\n",
              "    }\n",
              "  </style>\n",
              "\n",
              "    <script>\n",
              "      const buttonEl =\n",
              "        document.querySelector('#df-220a53ce-9170-434a-a32c-4248bc1314ae button.colab-df-convert');\n",
              "      buttonEl.style.display =\n",
              "        google.colab.kernel.accessAllowed ? 'block' : 'none';\n",
              "\n",
              "      async function convertToInteractive(key) {\n",
              "        const element = document.querySelector('#df-220a53ce-9170-434a-a32c-4248bc1314ae');\n",
              "        const dataTable =\n",
              "          await google.colab.kernel.invokeFunction('convertToInteractive',\n",
              "                                                    [key], {});\n",
              "        if (!dataTable) return;\n",
              "\n",
              "        const docLinkHtml = 'Like what you see? Visit the ' +\n",
              "          '<a target=\"_blank\" href=https://colab.research.google.com/notebooks/data_table.ipynb>data table notebook</a>'\n",
              "          + ' to learn more about interactive tables.';\n",
              "        element.innerHTML = '';\n",
              "        dataTable['output_type'] = 'display_data';\n",
              "        await google.colab.output.renderOutput(dataTable, element);\n",
              "        const docLink = document.createElement('div');\n",
              "        docLink.innerHTML = docLinkHtml;\n",
              "        element.appendChild(docLink);\n",
              "      }\n",
              "    </script>\n",
              "  </div>\n",
              "\n",
              "\n",
              "<div id=\"df-0a30b488-ddca-40cd-82e9-7e9ea1ec89a4\">\n",
              "  <button class=\"colab-df-quickchart\" onclick=\"quickchart('df-0a30b488-ddca-40cd-82e9-7e9ea1ec89a4')\"\n",
              "            title=\"Suggest charts\"\n",
              "            style=\"display:none;\">\n",
              "\n",
              "<svg xmlns=\"http://www.w3.org/2000/svg\" height=\"24px\"viewBox=\"0 0 24 24\"\n",
              "     width=\"24px\">\n",
              "    <g>\n",
              "        <path d=\"M19 3H5c-1.1 0-2 .9-2 2v14c0 1.1.9 2 2 2h14c1.1 0 2-.9 2-2V5c0-1.1-.9-2-2-2zM9 17H7v-7h2v7zm4 0h-2V7h2v10zm4 0h-2v-4h2v4z\"/>\n",
              "    </g>\n",
              "</svg>\n",
              "  </button>\n",
              "\n",
              "<style>\n",
              "  .colab-df-quickchart {\n",
              "      --bg-color: #E8F0FE;\n",
              "      --fill-color: #1967D2;\n",
              "      --hover-bg-color: #E2EBFA;\n",
              "      --hover-fill-color: #174EA6;\n",
              "      --disabled-fill-color: #AAA;\n",
              "      --disabled-bg-color: #DDD;\n",
              "  }\n",
              "\n",
              "  [theme=dark] .colab-df-quickchart {\n",
              "      --bg-color: #3B4455;\n",
              "      --fill-color: #D2E3FC;\n",
              "      --hover-bg-color: #434B5C;\n",
              "      --hover-fill-color: #FFFFFF;\n",
              "      --disabled-bg-color: #3B4455;\n",
              "      --disabled-fill-color: #666;\n",
              "  }\n",
              "\n",
              "  .colab-df-quickchart {\n",
              "    background-color: var(--bg-color);\n",
              "    border: none;\n",
              "    border-radius: 50%;\n",
              "    cursor: pointer;\n",
              "    display: none;\n",
              "    fill: var(--fill-color);\n",
              "    height: 32px;\n",
              "    padding: 0;\n",
              "    width: 32px;\n",
              "  }\n",
              "\n",
              "  .colab-df-quickchart:hover {\n",
              "    background-color: var(--hover-bg-color);\n",
              "    box-shadow: 0 1px 2px rgba(60, 64, 67, 0.3), 0 1px 3px 1px rgba(60, 64, 67, 0.15);\n",
              "    fill: var(--button-hover-fill-color);\n",
              "  }\n",
              "\n",
              "  .colab-df-quickchart-complete:disabled,\n",
              "  .colab-df-quickchart-complete:disabled:hover {\n",
              "    background-color: var(--disabled-bg-color);\n",
              "    fill: var(--disabled-fill-color);\n",
              "    box-shadow: none;\n",
              "  }\n",
              "\n",
              "  .colab-df-spinner {\n",
              "    border: 2px solid var(--fill-color);\n",
              "    border-color: transparent;\n",
              "    border-bottom-color: var(--fill-color);\n",
              "    animation:\n",
              "      spin 1s steps(1) infinite;\n",
              "  }\n",
              "\n",
              "  @keyframes spin {\n",
              "    0% {\n",
              "      border-color: transparent;\n",
              "      border-bottom-color: var(--fill-color);\n",
              "      border-left-color: var(--fill-color);\n",
              "    }\n",
              "    20% {\n",
              "      border-color: transparent;\n",
              "      border-left-color: var(--fill-color);\n",
              "      border-top-color: var(--fill-color);\n",
              "    }\n",
              "    30% {\n",
              "      border-color: transparent;\n",
              "      border-left-color: var(--fill-color);\n",
              "      border-top-color: var(--fill-color);\n",
              "      border-right-color: var(--fill-color);\n",
              "    }\n",
              "    40% {\n",
              "      border-color: transparent;\n",
              "      border-right-color: var(--fill-color);\n",
              "      border-top-color: var(--fill-color);\n",
              "    }\n",
              "    60% {\n",
              "      border-color: transparent;\n",
              "      border-right-color: var(--fill-color);\n",
              "    }\n",
              "    80% {\n",
              "      border-color: transparent;\n",
              "      border-right-color: var(--fill-color);\n",
              "      border-bottom-color: var(--fill-color);\n",
              "    }\n",
              "    90% {\n",
              "      border-color: transparent;\n",
              "      border-bottom-color: var(--fill-color);\n",
              "    }\n",
              "  }\n",
              "</style>\n",
              "\n",
              "  <script>\n",
              "    async function quickchart(key) {\n",
              "      const quickchartButtonEl =\n",
              "        document.querySelector('#' + key + ' button');\n",
              "      quickchartButtonEl.disabled = true;  // To prevent multiple clicks.\n",
              "      quickchartButtonEl.classList.add('colab-df-spinner');\n",
              "      try {\n",
              "        const charts = await google.colab.kernel.invokeFunction(\n",
              "            'suggestCharts', [key], {});\n",
              "      } catch (error) {\n",
              "        console.error('Error during call to suggestCharts:', error);\n",
              "      }\n",
              "      quickchartButtonEl.classList.remove('colab-df-spinner');\n",
              "      quickchartButtonEl.classList.add('colab-df-quickchart-complete');\n",
              "    }\n",
              "    (() => {\n",
              "      let quickchartButtonEl =\n",
              "        document.querySelector('#df-0a30b488-ddca-40cd-82e9-7e9ea1ec89a4 button');\n",
              "      quickchartButtonEl.style.display =\n",
              "        google.colab.kernel.accessAllowed ? 'block' : 'none';\n",
              "    })();\n",
              "  </script>\n",
              "</div>\n",
              "\n",
              "    </div>\n",
              "  </div>\n"
            ],
            "application/vnd.google.colaboratory.intrinsic+json": {
              "type": "dataframe",
              "summary": "{\n  \"name\": \"pd\",\n  \"rows\": 178,\n  \"fields\": [\n    {\n      \"column\": 0,\n      \"properties\": {\n        \"dtype\": \"number\",\n        \"std\": 0.8118265380058575,\n        \"min\": 11.03,\n        \"max\": 14.83,\n        \"num_unique_values\": 126,\n        \"samples\": [\n          11.62,\n          13.64,\n          13.69\n        ],\n        \"semantic_type\": \"\",\n        \"description\": \"\"\n      }\n    },\n    {\n      \"column\": 1,\n      \"properties\": {\n        \"dtype\": \"number\",\n        \"std\": 1.1171460976144627,\n        \"min\": 0.74,\n        \"max\": 5.8,\n        \"num_unique_values\": 133,\n        \"samples\": [\n          1.21,\n          2.83,\n          1.8\n        ],\n        \"semantic_type\": \"\",\n        \"description\": \"\"\n      }\n    },\n    {\n      \"column\": 2,\n      \"properties\": {\n        \"dtype\": \"number\",\n        \"std\": 0.27434400906081485,\n        \"min\": 1.36,\n        \"max\": 3.23,\n        \"num_unique_values\": 79,\n        \"samples\": [\n          2.31,\n          2.43,\n          2.52\n        ],\n        \"semantic_type\": \"\",\n        \"description\": \"\"\n      }\n    },\n    {\n      \"column\": 3,\n      \"properties\": {\n        \"dtype\": \"number\",\n        \"std\": 3.339563767173505,\n        \"min\": 10.6,\n        \"max\": 30.0,\n        \"num_unique_values\": 63,\n        \"samples\": [\n          25.5,\n          28.5,\n          15.6\n        ],\n        \"semantic_type\": \"\",\n        \"description\": \"\"\n      }\n    },\n    {\n      \"column\": 4,\n      \"properties\": {\n        \"dtype\": \"number\",\n        \"std\": 14.282483515295665,\n        \"min\": 70.0,\n        \"max\": 162.0,\n        \"num_unique_values\": 53,\n        \"samples\": [\n          126.0,\n          85.0,\n          162.0\n        ],\n        \"semantic_type\": \"\",\n        \"description\": \"\"\n      }\n    },\n    {\n      \"column\": 5,\n      \"properties\": {\n        \"dtype\": \"number\",\n        \"std\": 0.6258510488339893,\n        \"min\": 0.98,\n        \"max\": 3.88,\n        \"num_unique_values\": 97,\n        \"samples\": [\n          1.68,\n          2.11,\n          1.35\n        ],\n        \"semantic_type\": \"\",\n        \"description\": \"\"\n      }\n    },\n    {\n      \"column\": 6,\n      \"properties\": {\n        \"dtype\": \"number\",\n        \"std\": 0.9988586850169467,\n        \"min\": 0.34,\n        \"max\": 5.08,\n        \"num_unique_values\": 132,\n        \"samples\": [\n          3.18,\n          2.5,\n          3.17\n        ],\n        \"semantic_type\": \"\",\n        \"description\": \"\"\n      }\n    },\n    {\n      \"column\": 7,\n      \"properties\": {\n        \"dtype\": \"number\",\n        \"std\": 0.12445334029667937,\n        \"min\": 0.13,\n        \"max\": 0.66,\n        \"num_unique_values\": 39,\n        \"samples\": [\n          0.58,\n          0.41,\n          0.39\n        ],\n        \"semantic_type\": \"\",\n        \"description\": \"\"\n      }\n    },\n    {\n      \"column\": 8,\n      \"properties\": {\n        \"dtype\": \"number\",\n        \"std\": 0.5723588626747613,\n        \"min\": 0.41,\n        \"max\": 3.58,\n        \"num_unique_values\": 101,\n        \"samples\": [\n          0.75,\n          1.77,\n          1.42\n        ],\n        \"semantic_type\": \"\",\n        \"description\": \"\"\n      }\n    },\n    {\n      \"column\": 9,\n      \"properties\": {\n        \"dtype\": \"number\",\n        \"std\": 2.318285871822413,\n        \"min\": 1.28,\n        \"max\": 13.0,\n        \"num_unique_values\": 132,\n        \"samples\": [\n          2.95,\n          3.3,\n          5.1\n        ],\n        \"semantic_type\": \"\",\n        \"description\": \"\"\n      }\n    },\n    {\n      \"column\": 10,\n      \"properties\": {\n        \"dtype\": \"number\",\n        \"std\": 0.22857156582982338,\n        \"min\": 0.48,\n        \"max\": 1.71,\n        \"num_unique_values\": 78,\n        \"samples\": [\n          1.22,\n          1.04,\n          1.45\n        ],\n        \"semantic_type\": \"\",\n        \"description\": \"\"\n      }\n    },\n    {\n      \"column\": 11,\n      \"properties\": {\n        \"dtype\": \"number\",\n        \"std\": 0.7099904287650504,\n        \"min\": 1.27,\n        \"max\": 4.0,\n        \"num_unique_values\": 122,\n        \"samples\": [\n          4.0,\n          1.82,\n          1.59\n        ],\n        \"semantic_type\": \"\",\n        \"description\": \"\"\n      }\n    },\n    {\n      \"column\": 12,\n      \"properties\": {\n        \"dtype\": \"number\",\n        \"std\": 314.9074742768491,\n        \"min\": 278.0,\n        \"max\": 1680.0,\n        \"num_unique_values\": 121,\n        \"samples\": [\n          1375.0,\n          1270.0,\n          735.0\n        ],\n        \"semantic_type\": \"\",\n        \"description\": \"\"\n      }\n    },\n    {\n      \"column\": 0,\n      \"properties\": {\n        \"dtype\": \"number\",\n        \"std\": 0,\n        \"min\": 0,\n        \"max\": 2,\n        \"num_unique_values\": 3,\n        \"samples\": [\n          0,\n          1,\n          2\n        ],\n        \"semantic_type\": \"\",\n        \"description\": \"\"\n      }\n    }\n  ]\n}"
            }
          },
          "metadata": {},
          "execution_count": 6
        }
      ]
    },
    {
      "cell_type": "code",
      "source": [
        "wine.feature_names"
      ],
      "metadata": {
        "colab": {
          "base_uri": "https://localhost:8080/"
        },
        "id": "7sn6JygLb9fZ",
        "outputId": "d1b1b60d-8327-477f-f700-fdbee4ed8145"
      },
      "execution_count": 7,
      "outputs": [
        {
          "output_type": "execute_result",
          "data": {
            "text/plain": [
              "['alcohol',\n",
              " 'malic_acid',\n",
              " 'ash',\n",
              " 'alcalinity_of_ash',\n",
              " 'magnesium',\n",
              " 'total_phenols',\n",
              " 'flavanoids',\n",
              " 'nonflavanoid_phenols',\n",
              " 'proanthocyanins',\n",
              " 'color_intensity',\n",
              " 'hue',\n",
              " 'od280/od315_of_diluted_wines',\n",
              " 'proline']"
            ]
          },
          "metadata": {},
          "execution_count": 7
        }
      ]
    },
    {
      "cell_type": "code",
      "source": [
        "wine.target_names\n"
      ],
      "metadata": {
        "colab": {
          "base_uri": "https://localhost:8080/"
        },
        "id": "ScqEe-d1cU7C",
        "outputId": "9d123a1f-d4e3-47c5-8c4e-36e8f84ef322"
      },
      "execution_count": 8,
      "outputs": [
        {
          "output_type": "execute_result",
          "data": {
            "text/plain": [
              "array(['class_0', 'class_1', 'class_2'], dtype='<U7')"
            ]
          },
          "metadata": {},
          "execution_count": 8
        }
      ]
    },
    {
      "cell_type": "code",
      "source": [
        "# 数据集的划分\n",
        "Xtrain, Xtest, Ytrain, Ytest = train_test_split(wine.data, wine.target, test_size = 0.3)"
      ],
      "metadata": {
        "id": "8GgDPszjcXnK"
      },
      "execution_count": 9,
      "outputs": []
    },
    {
      "cell_type": "code",
      "source": [
        "Xtrain.shape"
      ],
      "metadata": {
        "colab": {
          "base_uri": "https://localhost:8080/"
        },
        "id": "mn288fYpcnBg",
        "outputId": "cc33ed15-d95f-42ba-d550-63fbd6cbea77"
      },
      "execution_count": 10,
      "outputs": [
        {
          "output_type": "execute_result",
          "data": {
            "text/plain": [
              "(124, 13)"
            ]
          },
          "metadata": {},
          "execution_count": 10
        }
      ]
    },
    {
      "cell_type": "code",
      "source": [
        "Xtest.shape"
      ],
      "metadata": {
        "colab": {
          "base_uri": "https://localhost:8080/"
        },
        "id": "j9E6MQZrcplo",
        "outputId": "8483aa76-445e-4545-f5dd-6b604239906b"
      },
      "execution_count": 11,
      "outputs": [
        {
          "output_type": "execute_result",
          "data": {
            "text/plain": [
              "(54, 13)"
            ]
          },
          "metadata": {},
          "execution_count": 11
        }
      ]
    },
    {
      "cell_type": "code",
      "source": [
        "# 建立模型\n",
        "clf = tree.DecisionTreeClassifier()\n",
        "clf = clf.fit(Xtrain, Ytrain)\n",
        "score = clf.score(Xtest, Ytest)\n",
        "\n",
        "score"
      ],
      "metadata": {
        "colab": {
          "base_uri": "https://localhost:8080/"
        },
        "id": "HvHss7Nlcs4_",
        "outputId": "4a9d7571-9d22-40e4-a218-6e18e46588cf"
      },
      "execution_count": 12,
      "outputs": [
        {
          "output_type": "execute_result",
          "data": {
            "text/plain": [
              "0.9259259259259259"
            ]
          },
          "metadata": {},
          "execution_count": 12
        }
      ]
    },
    {
      "cell_type": "code",
      "source": [
        "# 画出决策树，可视化\n",
        "feature_name = ['酒精','苹果酸','灰','灰的碱性','镁','总酚','类黄酮','非黄烷类酚类','花青素','颜色强度','色调','od280/od315稀释葡萄酒','脯氨酸']\n",
        "class_name = ['琴酒','雪莉','贝尔摩德']\n",
        "\n",
        "import graphviz\n",
        "\n",
        "dot_data = tree.export_graphviz(\n",
        "    clf,\n",
        "    feature_names = feature_name,\n",
        "    class_names = class_name,\n",
        "    filled = True,\n",
        "    rounded = True\n",
        ")\n",
        "graph = graphviz.Source(dot_data)\n",
        "graph"
      ],
      "metadata": {
        "colab": {
          "base_uri": "https://localhost:8080/",
          "height": 935
        },
        "id": "fKie-mq3c6TN",
        "outputId": "e243b58c-b568-4256-f7cd-e3584a0b0a07"
      },
      "execution_count": 14,
      "outputs": [
        {
          "output_type": "execute_result",
          "data": {
            "image/svg+xml": "<?xml version=\"1.0\" encoding=\"UTF-8\" standalone=\"no\"?>\n<!DOCTYPE svg PUBLIC \"-//W3C//DTD SVG 1.1//EN\"\n \"http://www.w3.org/Graphics/SVG/1.1/DTD/svg11.dtd\">\n<!-- Generated by graphviz version 2.43.0 (0)\n -->\n<!-- Title: Tree Pages: 1 -->\n<svg width=\"1060pt\" height=\"671pt\"\n viewBox=\"0.00 0.00 1060.00 671.00\" xmlns=\"http://www.w3.org/2000/svg\" xmlns:xlink=\"http://www.w3.org/1999/xlink\">\n<g id=\"graph0\" class=\"graph\" transform=\"scale(1 1) rotate(0) translate(4 667)\">\n<title>Tree</title>\n<polygon fill=\"white\" stroke=\"transparent\" points=\"-4,4 -4,-667 1056,-667 1056,4 -4,4\"/>\n<!-- 0 -->\n<g id=\"node1\" class=\"node\">\n<title>0</title>\n<path fill=\"#fcfffd\" stroke=\"black\" d=\"M552,-663C552,-663 444,-663 444,-663 438,-663 432,-657 432,-651 432,-651 432,-592 432,-592 432,-586 438,-580 444,-580 444,-580 552,-580 552,-580 558,-580 564,-586 564,-592 564,-592 564,-651 564,-651 564,-657 558,-663 552,-663\"/>\n<text text-anchor=\"middle\" x=\"498\" y=\"-647.8\" font-family=\"Helvetica,sans-Serif\" font-size=\"14.00\">脯氨酸 &lt;= 755.0</text>\n<text text-anchor=\"middle\" x=\"498\" y=\"-632.8\" font-family=\"Helvetica,sans-Serif\" font-size=\"14.00\">gini = 0.647</text>\n<text text-anchor=\"middle\" x=\"498\" y=\"-617.8\" font-family=\"Helvetica,sans-Serif\" font-size=\"14.00\">samples = 124</text>\n<text text-anchor=\"middle\" x=\"498\" y=\"-602.8\" font-family=\"Helvetica,sans-Serif\" font-size=\"14.00\">value = [48, 49, 27]</text>\n<text text-anchor=\"middle\" x=\"498\" y=\"-587.8\" font-family=\"Helvetica,sans-Serif\" font-size=\"14.00\">class = 雪莉</text>\n</g>\n<!-- 1 -->\n<g id=\"node2\" class=\"node\">\n<title>1</title>\n<path fill=\"#a2f3c4\" stroke=\"black\" d=\"M477.5,-544C477.5,-544 376.5,-544 376.5,-544 370.5,-544 364.5,-538 364.5,-532 364.5,-532 364.5,-473 364.5,-473 364.5,-467 370.5,-461 376.5,-461 376.5,-461 477.5,-461 477.5,-461 483.5,-461 489.5,-467 489.5,-473 489.5,-473 489.5,-532 489.5,-532 489.5,-538 483.5,-544 477.5,-544\"/>\n<text text-anchor=\"middle\" x=\"427\" y=\"-528.8\" font-family=\"Helvetica,sans-Serif\" font-size=\"14.00\">类黄酮 &lt;= 1.235</text>\n<text text-anchor=\"middle\" x=\"427\" y=\"-513.8\" font-family=\"Helvetica,sans-Serif\" font-size=\"14.00\">gini = 0.477</text>\n<text text-anchor=\"middle\" x=\"427\" y=\"-498.8\" font-family=\"Helvetica,sans-Serif\" font-size=\"14.00\">samples = 73</text>\n<text text-anchor=\"middle\" x=\"427\" y=\"-483.8\" font-family=\"Helvetica,sans-Serif\" font-size=\"14.00\">value = [2, 47, 24]</text>\n<text text-anchor=\"middle\" x=\"427\" y=\"-468.8\" font-family=\"Helvetica,sans-Serif\" font-size=\"14.00\">class = 雪莉</text>\n</g>\n<!-- 0&#45;&gt;1 -->\n<g id=\"edge1\" class=\"edge\">\n<title>0&#45;&gt;1</title>\n<path fill=\"none\" stroke=\"black\" d=\"M473.37,-579.91C468.03,-571.1 462.32,-561.7 456.8,-552.61\"/>\n<polygon fill=\"black\" stroke=\"black\" points=\"459.77,-550.75 451.59,-544.02 453.79,-554.39 459.77,-550.75\"/>\n<text text-anchor=\"middle\" x=\"445.65\" y=\"-564.6\" font-family=\"Helvetica,sans-Serif\" font-size=\"14.00\">True</text>\n</g>\n<!-- 12 -->\n<g id=\"node13\" class=\"node\">\n<title>12</title>\n<path fill=\"#e88e4e\" stroke=\"black\" d=\"M676.5,-544C676.5,-544 583.5,-544 583.5,-544 577.5,-544 571.5,-538 571.5,-532 571.5,-532 571.5,-473 571.5,-473 571.5,-467 577.5,-461 583.5,-461 583.5,-461 676.5,-461 676.5,-461 682.5,-461 688.5,-467 688.5,-473 688.5,-473 688.5,-532 688.5,-532 688.5,-538 682.5,-544 676.5,-544\"/>\n<text text-anchor=\"middle\" x=\"630\" y=\"-528.8\" font-family=\"Helvetica,sans-Serif\" font-size=\"14.00\">类黄酮 &lt;= 2.165</text>\n<text text-anchor=\"middle\" x=\"630\" y=\"-513.8\" font-family=\"Helvetica,sans-Serif\" font-size=\"14.00\">gini = 0.181</text>\n<text text-anchor=\"middle\" x=\"630\" y=\"-498.8\" font-family=\"Helvetica,sans-Serif\" font-size=\"14.00\">samples = 51</text>\n<text text-anchor=\"middle\" x=\"630\" y=\"-483.8\" font-family=\"Helvetica,sans-Serif\" font-size=\"14.00\">value = [46, 2, 3]</text>\n<text text-anchor=\"middle\" x=\"630\" y=\"-468.8\" font-family=\"Helvetica,sans-Serif\" font-size=\"14.00\">class = 琴酒</text>\n</g>\n<!-- 0&#45;&gt;12 -->\n<g id=\"edge12\" class=\"edge\">\n<title>0&#45;&gt;12</title>\n<path fill=\"none\" stroke=\"black\" d=\"M543.8,-579.91C554.34,-570.56 565.65,-560.54 576.49,-550.93\"/>\n<polygon fill=\"black\" stroke=\"black\" points=\"579.12,-553.27 584.28,-544.02 574.48,-548.03 579.12,-553.27\"/>\n<text text-anchor=\"middle\" x=\"582.78\" y=\"-565.28\" font-family=\"Helvetica,sans-Serif\" font-size=\"14.00\">False</text>\n</g>\n<!-- 2 -->\n<g id=\"node3\" class=\"node\">\n<title>2</title>\n<path fill=\"#8742e6\" stroke=\"black\" d=\"M241,-425C241,-425 145,-425 145,-425 139,-425 133,-419 133,-413 133,-413 133,-354 133,-354 133,-348 139,-342 145,-342 145,-342 241,-342 241,-342 247,-342 253,-348 253,-354 253,-354 253,-413 253,-413 253,-419 247,-425 241,-425\"/>\n<text text-anchor=\"middle\" x=\"193\" y=\"-409.8\" font-family=\"Helvetica,sans-Serif\" font-size=\"14.00\">色调 &lt;= 1.005</text>\n<text text-anchor=\"middle\" x=\"193\" y=\"-394.8\" font-family=\"Helvetica,sans-Serif\" font-size=\"14.00\">gini = 0.083</text>\n<text text-anchor=\"middle\" x=\"193\" y=\"-379.8\" font-family=\"Helvetica,sans-Serif\" font-size=\"14.00\">samples = 23</text>\n<text text-anchor=\"middle\" x=\"193\" y=\"-364.8\" font-family=\"Helvetica,sans-Serif\" font-size=\"14.00\">value = [0, 1, 22]</text>\n<text text-anchor=\"middle\" x=\"193\" y=\"-349.8\" font-family=\"Helvetica,sans-Serif\" font-size=\"14.00\">class = 贝尔摩德</text>\n</g>\n<!-- 1&#45;&gt;2 -->\n<g id=\"edge2\" class=\"edge\">\n<title>1&#45;&gt;2</title>\n<path fill=\"none\" stroke=\"black\" d=\"M364.29,-470.15C332.74,-454.37 294.41,-435.21 262.02,-419.01\"/>\n<polygon fill=\"black\" stroke=\"black\" points=\"263.56,-415.87 253.05,-414.53 260.43,-422.13 263.56,-415.87\"/>\n</g>\n<!-- 5 -->\n<g id=\"node6\" class=\"node\">\n<title>5</title>\n<path fill=\"#49e78c\" stroke=\"black\" d=\"M473.5,-425C473.5,-425 380.5,-425 380.5,-425 374.5,-425 368.5,-419 368.5,-413 368.5,-413 368.5,-354 368.5,-354 368.5,-348 374.5,-342 380.5,-342 380.5,-342 473.5,-342 473.5,-342 479.5,-342 485.5,-348 485.5,-354 485.5,-354 485.5,-413 485.5,-413 485.5,-419 479.5,-425 473.5,-425\"/>\n<text text-anchor=\"middle\" x=\"427\" y=\"-409.8\" font-family=\"Helvetica,sans-Serif\" font-size=\"14.00\">色调 &lt;= 0.655</text>\n<text text-anchor=\"middle\" x=\"427\" y=\"-394.8\" font-family=\"Helvetica,sans-Serif\" font-size=\"14.00\">gini = 0.15</text>\n<text text-anchor=\"middle\" x=\"427\" y=\"-379.8\" font-family=\"Helvetica,sans-Serif\" font-size=\"14.00\">samples = 50</text>\n<text text-anchor=\"middle\" x=\"427\" y=\"-364.8\" font-family=\"Helvetica,sans-Serif\" font-size=\"14.00\">value = [2, 46, 2]</text>\n<text text-anchor=\"middle\" x=\"427\" y=\"-349.8\" font-family=\"Helvetica,sans-Serif\" font-size=\"14.00\">class = 雪莉</text>\n</g>\n<!-- 1&#45;&gt;5 -->\n<g id=\"edge5\" class=\"edge\">\n<title>1&#45;&gt;5</title>\n<path fill=\"none\" stroke=\"black\" d=\"M427,-460.91C427,-452.65 427,-443.86 427,-435.3\"/>\n<polygon fill=\"black\" stroke=\"black\" points=\"430.5,-435.02 427,-425.02 423.5,-435.02 430.5,-435.02\"/>\n</g>\n<!-- 3 -->\n<g id=\"node4\" class=\"node\">\n<title>3</title>\n<path fill=\"#8139e5\" stroke=\"black\" d=\"M108,-298.5C108,-298.5 12,-298.5 12,-298.5 6,-298.5 0,-292.5 0,-286.5 0,-286.5 0,-242.5 0,-242.5 0,-236.5 6,-230.5 12,-230.5 12,-230.5 108,-230.5 108,-230.5 114,-230.5 120,-236.5 120,-242.5 120,-242.5 120,-286.5 120,-286.5 120,-292.5 114,-298.5 108,-298.5\"/>\n<text text-anchor=\"middle\" x=\"60\" y=\"-283.3\" font-family=\"Helvetica,sans-Serif\" font-size=\"14.00\">gini = 0.0</text>\n<text text-anchor=\"middle\" x=\"60\" y=\"-268.3\" font-family=\"Helvetica,sans-Serif\" font-size=\"14.00\">samples = 22</text>\n<text text-anchor=\"middle\" x=\"60\" y=\"-253.3\" font-family=\"Helvetica,sans-Serif\" font-size=\"14.00\">value = [0, 0, 22]</text>\n<text text-anchor=\"middle\" x=\"60\" y=\"-238.3\" font-family=\"Helvetica,sans-Serif\" font-size=\"14.00\">class = 贝尔摩德</text>\n</g>\n<!-- 2&#45;&gt;3 -->\n<g id=\"edge3\" class=\"edge\">\n<title>2&#45;&gt;3</title>\n<path fill=\"none\" stroke=\"black\" d=\"M146.86,-341.91C133.43,-330.1 118.79,-317.22 105.41,-305.45\"/>\n<polygon fill=\"black\" stroke=\"black\" points=\"107.52,-302.64 97.7,-298.67 102.9,-307.9 107.52,-302.64\"/>\n</g>\n<!-- 4 -->\n<g id=\"node5\" class=\"node\">\n<title>4</title>\n<path fill=\"#39e581\" stroke=\"black\" d=\"M236,-298.5C236,-298.5 150,-298.5 150,-298.5 144,-298.5 138,-292.5 138,-286.5 138,-286.5 138,-242.5 138,-242.5 138,-236.5 144,-230.5 150,-230.5 150,-230.5 236,-230.5 236,-230.5 242,-230.5 248,-236.5 248,-242.5 248,-242.5 248,-286.5 248,-286.5 248,-292.5 242,-298.5 236,-298.5\"/>\n<text text-anchor=\"middle\" x=\"193\" y=\"-283.3\" font-family=\"Helvetica,sans-Serif\" font-size=\"14.00\">gini = 0.0</text>\n<text text-anchor=\"middle\" x=\"193\" y=\"-268.3\" font-family=\"Helvetica,sans-Serif\" font-size=\"14.00\">samples = 1</text>\n<text text-anchor=\"middle\" x=\"193\" y=\"-253.3\" font-family=\"Helvetica,sans-Serif\" font-size=\"14.00\">value = [0, 1, 0]</text>\n<text text-anchor=\"middle\" x=\"193\" y=\"-238.3\" font-family=\"Helvetica,sans-Serif\" font-size=\"14.00\">class = 雪莉</text>\n</g>\n<!-- 2&#45;&gt;4 -->\n<g id=\"edge4\" class=\"edge\">\n<title>2&#45;&gt;4</title>\n<path fill=\"none\" stroke=\"black\" d=\"M193,-341.91C193,-331.2 193,-319.62 193,-308.78\"/>\n<polygon fill=\"black\" stroke=\"black\" points=\"196.5,-308.67 193,-298.67 189.5,-308.67 196.5,-308.67\"/>\n</g>\n<!-- 6 -->\n<g id=\"node7\" class=\"node\">\n<title>6</title>\n<path fill=\"#8139e5\" stroke=\"black\" d=\"M374,-298.5C374,-298.5 278,-298.5 278,-298.5 272,-298.5 266,-292.5 266,-286.5 266,-286.5 266,-242.5 266,-242.5 266,-236.5 272,-230.5 278,-230.5 278,-230.5 374,-230.5 374,-230.5 380,-230.5 386,-236.5 386,-242.5 386,-242.5 386,-286.5 386,-286.5 386,-292.5 380,-298.5 374,-298.5\"/>\n<text text-anchor=\"middle\" x=\"326\" y=\"-283.3\" font-family=\"Helvetica,sans-Serif\" font-size=\"14.00\">gini = 0.0</text>\n<text text-anchor=\"middle\" x=\"326\" y=\"-268.3\" font-family=\"Helvetica,sans-Serif\" font-size=\"14.00\">samples = 2</text>\n<text text-anchor=\"middle\" x=\"326\" y=\"-253.3\" font-family=\"Helvetica,sans-Serif\" font-size=\"14.00\">value = [0, 0, 2]</text>\n<text text-anchor=\"middle\" x=\"326\" y=\"-238.3\" font-family=\"Helvetica,sans-Serif\" font-size=\"14.00\">class = 贝尔摩德</text>\n</g>\n<!-- 5&#45;&gt;6 -->\n<g id=\"edge6\" class=\"edge\">\n<title>5&#45;&gt;6</title>\n<path fill=\"none\" stroke=\"black\" d=\"M391.96,-341.91C382.05,-330.43 371.27,-317.94 361.34,-306.44\"/>\n<polygon fill=\"black\" stroke=\"black\" points=\"363.82,-303.95 354.63,-298.67 358.52,-308.52 363.82,-303.95\"/>\n</g>\n<!-- 7 -->\n<g id=\"node8\" class=\"node\">\n<title>7</title>\n<path fill=\"#42e686\" stroke=\"black\" d=\"M509.5,-306C509.5,-306 416.5,-306 416.5,-306 410.5,-306 404.5,-300 404.5,-294 404.5,-294 404.5,-235 404.5,-235 404.5,-229 410.5,-223 416.5,-223 416.5,-223 509.5,-223 509.5,-223 515.5,-223 521.5,-229 521.5,-235 521.5,-235 521.5,-294 521.5,-294 521.5,-300 515.5,-306 509.5,-306\"/>\n<text text-anchor=\"middle\" x=\"463\" y=\"-290.8\" font-family=\"Helvetica,sans-Serif\" font-size=\"14.00\">酒精 &lt;= 13.175</text>\n<text text-anchor=\"middle\" x=\"463\" y=\"-275.8\" font-family=\"Helvetica,sans-Serif\" font-size=\"14.00\">gini = 0.08</text>\n<text text-anchor=\"middle\" x=\"463\" y=\"-260.8\" font-family=\"Helvetica,sans-Serif\" font-size=\"14.00\">samples = 48</text>\n<text text-anchor=\"middle\" x=\"463\" y=\"-245.8\" font-family=\"Helvetica,sans-Serif\" font-size=\"14.00\">value = [2, 46, 0]</text>\n<text text-anchor=\"middle\" x=\"463\" y=\"-230.8\" font-family=\"Helvetica,sans-Serif\" font-size=\"14.00\">class = 雪莉</text>\n</g>\n<!-- 5&#45;&gt;7 -->\n<g id=\"edge7\" class=\"edge\">\n<title>5&#45;&gt;7</title>\n<path fill=\"none\" stroke=\"black\" d=\"M439.49,-341.91C442.09,-333.47 444.85,-324.48 447.54,-315.74\"/>\n<polygon fill=\"black\" stroke=\"black\" points=\"450.94,-316.61 450.53,-306.02 444.25,-314.55 450.94,-316.61\"/>\n</g>\n<!-- 8 -->\n<g id=\"node9\" class=\"node\">\n<title>8</title>\n<path fill=\"#39e581\" stroke=\"black\" d=\"M443.5,-179.5C443.5,-179.5 350.5,-179.5 350.5,-179.5 344.5,-179.5 338.5,-173.5 338.5,-167.5 338.5,-167.5 338.5,-123.5 338.5,-123.5 338.5,-117.5 344.5,-111.5 350.5,-111.5 350.5,-111.5 443.5,-111.5 443.5,-111.5 449.5,-111.5 455.5,-117.5 455.5,-123.5 455.5,-123.5 455.5,-167.5 455.5,-167.5 455.5,-173.5 449.5,-179.5 443.5,-179.5\"/>\n<text text-anchor=\"middle\" x=\"397\" y=\"-164.3\" font-family=\"Helvetica,sans-Serif\" font-size=\"14.00\">gini = 0.0</text>\n<text text-anchor=\"middle\" x=\"397\" y=\"-149.3\" font-family=\"Helvetica,sans-Serif\" font-size=\"14.00\">samples = 43</text>\n<text text-anchor=\"middle\" x=\"397\" y=\"-134.3\" font-family=\"Helvetica,sans-Serif\" font-size=\"14.00\">value = [0, 43, 0]</text>\n<text text-anchor=\"middle\" x=\"397\" y=\"-119.3\" font-family=\"Helvetica,sans-Serif\" font-size=\"14.00\">class = 雪莉</text>\n</g>\n<!-- 7&#45;&gt;8 -->\n<g id=\"edge8\" class=\"edge\">\n<title>7&#45;&gt;8</title>\n<path fill=\"none\" stroke=\"black\" d=\"M440.1,-222.91C433.81,-211.76 426.99,-199.66 420.66,-188.44\"/>\n<polygon fill=\"black\" stroke=\"black\" points=\"423.67,-186.66 415.71,-179.67 417.57,-190.1 423.67,-186.66\"/>\n</g>\n<!-- 9 -->\n<g id=\"node10\" class=\"node\">\n<title>9</title>\n<path fill=\"#bdf6d5\" stroke=\"black\" d=\"M572,-187C572,-187 486,-187 486,-187 480,-187 474,-181 474,-175 474,-175 474,-116 474,-116 474,-110 480,-104 486,-104 486,-104 572,-104 572,-104 578,-104 584,-110 584,-116 584,-116 584,-175 584,-175 584,-181 578,-187 572,-187\"/>\n<text text-anchor=\"middle\" x=\"529\" y=\"-171.8\" font-family=\"Helvetica,sans-Serif\" font-size=\"14.00\">酒精 &lt;= 13.29</text>\n<text text-anchor=\"middle\" x=\"529\" y=\"-156.8\" font-family=\"Helvetica,sans-Serif\" font-size=\"14.00\">gini = 0.48</text>\n<text text-anchor=\"middle\" x=\"529\" y=\"-141.8\" font-family=\"Helvetica,sans-Serif\" font-size=\"14.00\">samples = 5</text>\n<text text-anchor=\"middle\" x=\"529\" y=\"-126.8\" font-family=\"Helvetica,sans-Serif\" font-size=\"14.00\">value = [2, 3, 0]</text>\n<text text-anchor=\"middle\" x=\"529\" y=\"-111.8\" font-family=\"Helvetica,sans-Serif\" font-size=\"14.00\">class = 雪莉</text>\n</g>\n<!-- 7&#45;&gt;9 -->\n<g id=\"edge9\" class=\"edge\">\n<title>7&#45;&gt;9</title>\n<path fill=\"none\" stroke=\"black\" d=\"M485.9,-222.91C490.81,-214.2 496.06,-204.9 501.14,-195.89\"/>\n<polygon fill=\"black\" stroke=\"black\" points=\"504.28,-197.45 506.14,-187.02 498.18,-194.01 504.28,-197.45\"/>\n</g>\n<!-- 10 -->\n<g id=\"node11\" class=\"node\">\n<title>10</title>\n<path fill=\"#e58139\" stroke=\"black\" d=\"M508,-68C508,-68 422,-68 422,-68 416,-68 410,-62 410,-56 410,-56 410,-12 410,-12 410,-6 416,0 422,0 422,0 508,0 508,0 514,0 520,-6 520,-12 520,-12 520,-56 520,-56 520,-62 514,-68 508,-68\"/>\n<text text-anchor=\"middle\" x=\"465\" y=\"-52.8\" font-family=\"Helvetica,sans-Serif\" font-size=\"14.00\">gini = 0.0</text>\n<text text-anchor=\"middle\" x=\"465\" y=\"-37.8\" font-family=\"Helvetica,sans-Serif\" font-size=\"14.00\">samples = 2</text>\n<text text-anchor=\"middle\" x=\"465\" y=\"-22.8\" font-family=\"Helvetica,sans-Serif\" font-size=\"14.00\">value = [2, 0, 0]</text>\n<text text-anchor=\"middle\" x=\"465\" y=\"-7.8\" font-family=\"Helvetica,sans-Serif\" font-size=\"14.00\">class = 琴酒</text>\n</g>\n<!-- 9&#45;&gt;10 -->\n<g id=\"edge10\" class=\"edge\">\n<title>9&#45;&gt;10</title>\n<path fill=\"none\" stroke=\"black\" d=\"M505.17,-103.73C500.1,-95.06 494.75,-85.9 489.65,-77.18\"/>\n<polygon fill=\"black\" stroke=\"black\" points=\"492.53,-75.17 484.46,-68.3 486.49,-78.7 492.53,-75.17\"/>\n</g>\n<!-- 11 -->\n<g id=\"node12\" class=\"node\">\n<title>11</title>\n<path fill=\"#39e581\" stroke=\"black\" d=\"M636,-68C636,-68 550,-68 550,-68 544,-68 538,-62 538,-56 538,-56 538,-12 538,-12 538,-6 544,0 550,0 550,0 636,0 636,0 642,0 648,-6 648,-12 648,-12 648,-56 648,-56 648,-62 642,-68 636,-68\"/>\n<text text-anchor=\"middle\" x=\"593\" y=\"-52.8\" font-family=\"Helvetica,sans-Serif\" font-size=\"14.00\">gini = 0.0</text>\n<text text-anchor=\"middle\" x=\"593\" y=\"-37.8\" font-family=\"Helvetica,sans-Serif\" font-size=\"14.00\">samples = 3</text>\n<text text-anchor=\"middle\" x=\"593\" y=\"-22.8\" font-family=\"Helvetica,sans-Serif\" font-size=\"14.00\">value = [0, 3, 0]</text>\n<text text-anchor=\"middle\" x=\"593\" y=\"-7.8\" font-family=\"Helvetica,sans-Serif\" font-size=\"14.00\">class = 雪莉</text>\n</g>\n<!-- 9&#45;&gt;11 -->\n<g id=\"edge11\" class=\"edge\">\n<title>9&#45;&gt;11</title>\n<path fill=\"none\" stroke=\"black\" d=\"M552.83,-103.73C557.9,-95.06 563.25,-85.9 568.35,-77.18\"/>\n<polygon fill=\"black\" stroke=\"black\" points=\"571.51,-78.7 573.54,-68.3 565.47,-75.17 571.51,-78.7\"/>\n</g>\n<!-- 13 -->\n<g id=\"node14\" class=\"node\">\n<title>13</title>\n<path fill=\"#ab7bee\" stroke=\"black\" d=\"M683.5,-425C683.5,-425 576.5,-425 576.5,-425 570.5,-425 564.5,-419 564.5,-413 564.5,-413 564.5,-354 564.5,-354 564.5,-348 570.5,-342 576.5,-342 576.5,-342 683.5,-342 683.5,-342 689.5,-342 695.5,-348 695.5,-354 695.5,-354 695.5,-413 695.5,-413 695.5,-419 689.5,-425 683.5,-425\"/>\n<text text-anchor=\"middle\" x=\"630\" y=\"-409.8\" font-family=\"Helvetica,sans-Serif\" font-size=\"14.00\">颜色强度 &lt;= 5.355</text>\n<text text-anchor=\"middle\" x=\"630\" y=\"-394.8\" font-family=\"Helvetica,sans-Serif\" font-size=\"14.00\">gini = 0.375</text>\n<text text-anchor=\"middle\" x=\"630\" y=\"-379.8\" font-family=\"Helvetica,sans-Serif\" font-size=\"14.00\">samples = 4</text>\n<text text-anchor=\"middle\" x=\"630\" y=\"-364.8\" font-family=\"Helvetica,sans-Serif\" font-size=\"14.00\">value = [0, 1, 3]</text>\n<text text-anchor=\"middle\" x=\"630\" y=\"-349.8\" font-family=\"Helvetica,sans-Serif\" font-size=\"14.00\">class = 贝尔摩德</text>\n</g>\n<!-- 12&#45;&gt;13 -->\n<g id=\"edge13\" class=\"edge\">\n<title>12&#45;&gt;13</title>\n<path fill=\"none\" stroke=\"black\" d=\"M630,-460.91C630,-452.65 630,-443.86 630,-435.3\"/>\n<polygon fill=\"black\" stroke=\"black\" points=\"633.5,-435.02 630,-425.02 626.5,-435.02 633.5,-435.02\"/>\n</g>\n<!-- 16 -->\n<g id=\"node17\" class=\"node\">\n<title>16</title>\n<path fill=\"#e6843d\" stroke=\"black\" d=\"M911.5,-425C911.5,-425 818.5,-425 818.5,-425 812.5,-425 806.5,-419 806.5,-413 806.5,-413 806.5,-354 806.5,-354 806.5,-348 812.5,-342 818.5,-342 818.5,-342 911.5,-342 911.5,-342 917.5,-342 923.5,-348 923.5,-354 923.5,-354 923.5,-413 923.5,-413 923.5,-419 917.5,-425 911.5,-425\"/>\n<text text-anchor=\"middle\" x=\"865\" y=\"-409.8\" font-family=\"Helvetica,sans-Serif\" font-size=\"14.00\">花青素 &lt;= 3.12</text>\n<text text-anchor=\"middle\" x=\"865\" y=\"-394.8\" font-family=\"Helvetica,sans-Serif\" font-size=\"14.00\">gini = 0.042</text>\n<text text-anchor=\"middle\" x=\"865\" y=\"-379.8\" font-family=\"Helvetica,sans-Serif\" font-size=\"14.00\">samples = 47</text>\n<text text-anchor=\"middle\" x=\"865\" y=\"-364.8\" font-family=\"Helvetica,sans-Serif\" font-size=\"14.00\">value = [46, 1, 0]</text>\n<text text-anchor=\"middle\" x=\"865\" y=\"-349.8\" font-family=\"Helvetica,sans-Serif\" font-size=\"14.00\">class = 琴酒</text>\n</g>\n<!-- 12&#45;&gt;16 -->\n<g id=\"edge16\" class=\"edge\">\n<title>12&#45;&gt;16</title>\n<path fill=\"none\" stroke=\"black\" d=\"M688.69,-472.28C721.64,-455.87 762.9,-435.33 797.22,-418.25\"/>\n<polygon fill=\"black\" stroke=\"black\" points=\"798.85,-421.35 806.24,-413.76 795.73,-415.08 798.85,-421.35\"/>\n</g>\n<!-- 14 -->\n<g id=\"node15\" class=\"node\">\n<title>14</title>\n<path fill=\"#39e581\" stroke=\"black\" d=\"M638,-298.5C638,-298.5 552,-298.5 552,-298.5 546,-298.5 540,-292.5 540,-286.5 540,-286.5 540,-242.5 540,-242.5 540,-236.5 546,-230.5 552,-230.5 552,-230.5 638,-230.5 638,-230.5 644,-230.5 650,-236.5 650,-242.5 650,-242.5 650,-286.5 650,-286.5 650,-292.5 644,-298.5 638,-298.5\"/>\n<text text-anchor=\"middle\" x=\"595\" y=\"-283.3\" font-family=\"Helvetica,sans-Serif\" font-size=\"14.00\">gini = 0.0</text>\n<text text-anchor=\"middle\" x=\"595\" y=\"-268.3\" font-family=\"Helvetica,sans-Serif\" font-size=\"14.00\">samples = 1</text>\n<text text-anchor=\"middle\" x=\"595\" y=\"-253.3\" font-family=\"Helvetica,sans-Serif\" font-size=\"14.00\">value = [0, 1, 0]</text>\n<text text-anchor=\"middle\" x=\"595\" y=\"-238.3\" font-family=\"Helvetica,sans-Serif\" font-size=\"14.00\">class = 雪莉</text>\n</g>\n<!-- 13&#45;&gt;14 -->\n<g id=\"edge14\" class=\"edge\">\n<title>13&#45;&gt;14</title>\n<path fill=\"none\" stroke=\"black\" d=\"M617.86,-341.91C614.62,-331.09 611.12,-319.38 607.85,-308.44\"/>\n<polygon fill=\"black\" stroke=\"black\" points=\"611.14,-307.24 604.92,-298.67 604.43,-309.25 611.14,-307.24\"/>\n</g>\n<!-- 15 -->\n<g id=\"node16\" class=\"node\">\n<title>15</title>\n<path fill=\"#8139e5\" stroke=\"black\" d=\"M776,-298.5C776,-298.5 680,-298.5 680,-298.5 674,-298.5 668,-292.5 668,-286.5 668,-286.5 668,-242.5 668,-242.5 668,-236.5 674,-230.5 680,-230.5 680,-230.5 776,-230.5 776,-230.5 782,-230.5 788,-236.5 788,-242.5 788,-242.5 788,-286.5 788,-286.5 788,-292.5 782,-298.5 776,-298.5\"/>\n<text text-anchor=\"middle\" x=\"728\" y=\"-283.3\" font-family=\"Helvetica,sans-Serif\" font-size=\"14.00\">gini = 0.0</text>\n<text text-anchor=\"middle\" x=\"728\" y=\"-268.3\" font-family=\"Helvetica,sans-Serif\" font-size=\"14.00\">samples = 3</text>\n<text text-anchor=\"middle\" x=\"728\" y=\"-253.3\" font-family=\"Helvetica,sans-Serif\" font-size=\"14.00\">value = [0, 0, 3]</text>\n<text text-anchor=\"middle\" x=\"728\" y=\"-238.3\" font-family=\"Helvetica,sans-Serif\" font-size=\"14.00\">class = 贝尔摩德</text>\n</g>\n<!-- 13&#45;&gt;15 -->\n<g id=\"edge15\" class=\"edge\">\n<title>13&#45;&gt;15</title>\n<path fill=\"none\" stroke=\"black\" d=\"M664,-341.91C673.61,-330.43 684.08,-317.94 693.71,-306.44\"/>\n<polygon fill=\"black\" stroke=\"black\" points=\"696.48,-308.58 700.22,-298.67 691.11,-304.09 696.48,-308.58\"/>\n</g>\n<!-- 17 -->\n<g id=\"node18\" class=\"node\">\n<title>17</title>\n<path fill=\"#e58139\" stroke=\"black\" d=\"M911.5,-298.5C911.5,-298.5 818.5,-298.5 818.5,-298.5 812.5,-298.5 806.5,-292.5 806.5,-286.5 806.5,-286.5 806.5,-242.5 806.5,-242.5 806.5,-236.5 812.5,-230.5 818.5,-230.5 818.5,-230.5 911.5,-230.5 911.5,-230.5 917.5,-230.5 923.5,-236.5 923.5,-242.5 923.5,-242.5 923.5,-286.5 923.5,-286.5 923.5,-292.5 917.5,-298.5 911.5,-298.5\"/>\n<text text-anchor=\"middle\" x=\"865\" y=\"-283.3\" font-family=\"Helvetica,sans-Serif\" font-size=\"14.00\">gini = 0.0</text>\n<text text-anchor=\"middle\" x=\"865\" y=\"-268.3\" font-family=\"Helvetica,sans-Serif\" font-size=\"14.00\">samples = 46</text>\n<text text-anchor=\"middle\" x=\"865\" y=\"-253.3\" font-family=\"Helvetica,sans-Serif\" font-size=\"14.00\">value = [46, 0, 0]</text>\n<text text-anchor=\"middle\" x=\"865\" y=\"-238.3\" font-family=\"Helvetica,sans-Serif\" font-size=\"14.00\">class = 琴酒</text>\n</g>\n<!-- 16&#45;&gt;17 -->\n<g id=\"edge17\" class=\"edge\">\n<title>16&#45;&gt;17</title>\n<path fill=\"none\" stroke=\"black\" d=\"M865,-341.91C865,-331.2 865,-319.62 865,-308.78\"/>\n<polygon fill=\"black\" stroke=\"black\" points=\"868.5,-308.67 865,-298.67 861.5,-308.67 868.5,-308.67\"/>\n</g>\n<!-- 18 -->\n<g id=\"node19\" class=\"node\">\n<title>18</title>\n<path fill=\"#39e581\" stroke=\"black\" d=\"M1040,-298.5C1040,-298.5 954,-298.5 954,-298.5 948,-298.5 942,-292.5 942,-286.5 942,-286.5 942,-242.5 942,-242.5 942,-236.5 948,-230.5 954,-230.5 954,-230.5 1040,-230.5 1040,-230.5 1046,-230.5 1052,-236.5 1052,-242.5 1052,-242.5 1052,-286.5 1052,-286.5 1052,-292.5 1046,-298.5 1040,-298.5\"/>\n<text text-anchor=\"middle\" x=\"997\" y=\"-283.3\" font-family=\"Helvetica,sans-Serif\" font-size=\"14.00\">gini = 0.0</text>\n<text text-anchor=\"middle\" x=\"997\" y=\"-268.3\" font-family=\"Helvetica,sans-Serif\" font-size=\"14.00\">samples = 1</text>\n<text text-anchor=\"middle\" x=\"997\" y=\"-253.3\" font-family=\"Helvetica,sans-Serif\" font-size=\"14.00\">value = [0, 1, 0]</text>\n<text text-anchor=\"middle\" x=\"997\" y=\"-238.3\" font-family=\"Helvetica,sans-Serif\" font-size=\"14.00\">class = 雪莉</text>\n</g>\n<!-- 16&#45;&gt;18 -->\n<g id=\"edge18\" class=\"edge\">\n<title>16&#45;&gt;18</title>\n<path fill=\"none\" stroke=\"black\" d=\"M910.8,-341.91C924.12,-330.1 938.65,-317.22 951.93,-305.45\"/>\n<polygon fill=\"black\" stroke=\"black\" points=\"954.42,-307.92 959.58,-298.67 949.78,-302.68 954.42,-307.92\"/>\n</g>\n</g>\n</svg>\n",
            "text/plain": [
              "<graphviz.sources.Source at 0x7c44f75b0c40>"
            ]
          },
          "metadata": {},
          "execution_count": 14
        }
      ]
    },
    {
      "cell_type": "code",
      "source": [
        "# 决策树的探索\n",
        "\n",
        "# 特征的重要性显示\n",
        "clf.feature_importances_"
      ],
      "metadata": {
        "colab": {
          "base_uri": "https://localhost:8080/"
        },
        "id": "GXi1QvH5d2wq",
        "outputId": "feb8008a-c285-442f-b534-bf3596fc4198"
      },
      "execution_count": 15,
      "outputs": [
        {
          "output_type": "execute_result",
          "data": {
            "text/plain": [
              "array([0.04781064, 0.        , 0.        , 0.        , 0.        ,\n",
              "       0.        , 0.38862478, 0.        , 0.02441394, 0.01870851,\n",
              "       0.06984149, 0.        , 0.45060064])"
            ]
          },
          "metadata": {},
          "execution_count": 15
        }
      ]
    },
    {
      "cell_type": "code",
      "source": [
        "[*zip(feature_name, clf.feature_importances_)]"
      ],
      "metadata": {
        "colab": {
          "base_uri": "https://localhost:8080/"
        },
        "id": "AVffgu0ZeAFW",
        "outputId": "5f902d6f-f181-4ca6-b013-0b88e9740e8f"
      },
      "execution_count": 16,
      "outputs": [
        {
          "output_type": "execute_result",
          "data": {
            "text/plain": [
              "[('酒精', 0.04781063501642865),\n",
              " ('苹果酸', 0.0),\n",
              " ('灰', 0.0),\n",
              " ('灰的碱性', 0.0),\n",
              " ('镁', 0.0),\n",
              " ('总酚', 0.0),\n",
              " ('类黄酮', 0.3886247832953927),\n",
              " ('非黄烷类酚类', 0.0),\n",
              " ('花青素', 0.02441394128498485),\n",
              " ('颜色强度', 0.018708509354254676),\n",
              " ('色调', 0.0698414864183277),\n",
              " ('od280/od315稀释葡萄酒', 0.0),\n",
              " ('脯氨酸', 0.45060064463061156)]"
            ]
          },
          "metadata": {},
          "execution_count": 16
        }
      ]
    },
    {
      "cell_type": "code",
      "source": [
        "# 保证一致性，设置random_state\n",
        "clf = tree.DecisionTreeClassifier(random_state = 30)\n",
        "clf = clf.fit(Xtrain, Ytrain)\n",
        "score = clf.score(Xtest, Ytest)"
      ],
      "metadata": {
        "id": "CAdjViHbeJDE"
      },
      "execution_count": 17,
      "outputs": []
    },
    {
      "cell_type": "code",
      "source": [
        "score"
      ],
      "metadata": {
        "colab": {
          "base_uri": "https://localhost:8080/"
        },
        "id": "iBsIR_cAef39",
        "outputId": "452c6307-96e0-47ab-ff38-2af4d9314507"
      },
      "execution_count": 18,
      "outputs": [
        {
          "output_type": "execute_result",
          "data": {
            "text/plain": [
              "0.9444444444444444"
            ]
          },
          "metadata": {},
          "execution_count": 18
        }
      ]
    },
    {
      "cell_type": "code",
      "source": [
        "'''\n",
        "参数说明： splitter{“best\",\"random\"},\n",
        "解释：选择划分的策略，默认为best。即优先选用更重要的特征进行分支\n",
        "'''\n",
        "\n",
        "clf = tree.DecisionTreeClassifier(\n",
        "    criterion = 'entropy',\n",
        "    random_state = 30,\n",
        "    splitter = 'random'\n",
        ")\n",
        "clf = clf.fit(Xtrain, Ytrain)\n",
        "score = clf.score(Xtest, Ytest)\n",
        "score"
      ],
      "metadata": {
        "colab": {
          "base_uri": "https://localhost:8080/"
        },
        "id": "FpiAgBmLegzT",
        "outputId": "00ddb12f-2f73-4be9-fd86-9fceeaaf7cad"
      },
      "execution_count": 19,
      "outputs": [
        {
          "output_type": "execute_result",
          "data": {
            "text/plain": [
              "0.9629629629629629"
            ]
          },
          "metadata": {},
          "execution_count": 19
        }
      ]
    },
    {
      "cell_type": "code",
      "source": [
        "# 可视化\n",
        "\n",
        "import graphviz\n",
        "dot_data = tree.export_graphviz(\n",
        "    clf,\n",
        "    feature_names = feature_name,\n",
        "    class_names = class_name,\n",
        "    filled = True,\n",
        "    rounded = True\n",
        ")\n",
        "graph = graphviz.Source(dot_data)\n",
        "graph"
      ],
      "metadata": {
        "colab": {
          "base_uri": "https://localhost:8080/",
          "height": 935
        },
        "id": "Ih6sQ06ZfS-8",
        "outputId": "cf022174-8771-4a89-a35a-a00cd2f658d0"
      },
      "execution_count": 20,
      "outputs": [
        {
          "output_type": "execute_result",
          "data": {
            "image/svg+xml": "<?xml version=\"1.0\" encoding=\"UTF-8\" standalone=\"no\"?>\n<!DOCTYPE svg PUBLIC \"-//W3C//DTD SVG 1.1//EN\"\n \"http://www.w3.org/Graphics/SVG/1.1/DTD/svg11.dtd\">\n<!-- Generated by graphviz version 2.43.0 (0)\n -->\n<!-- Title: Tree Pages: 1 -->\n<svg width=\"1303pt\" height=\"671pt\"\n viewBox=\"0.00 0.00 1302.50 671.00\" xmlns=\"http://www.w3.org/2000/svg\" xmlns:xlink=\"http://www.w3.org/1999/xlink\">\n<g id=\"graph0\" class=\"graph\" transform=\"scale(1 1) rotate(0) translate(4 667)\">\n<title>Tree</title>\n<polygon fill=\"white\" stroke=\"transparent\" points=\"-4,4 -4,-667 1298.5,-667 1298.5,4 -4,4\"/>\n<!-- 0 -->\n<g id=\"node1\" class=\"node\">\n<title>0</title>\n<path fill=\"#fcfffd\" stroke=\"black\" d=\"M676,-663C676,-663 568,-663 568,-663 562,-663 556,-657 556,-651 556,-651 556,-592 556,-592 556,-586 562,-580 568,-580 568,-580 676,-580 676,-580 682,-580 688,-586 688,-592 688,-592 688,-651 688,-651 688,-657 682,-663 676,-663\"/>\n<text text-anchor=\"middle\" x=\"622\" y=\"-647.8\" font-family=\"Helvetica,sans-Serif\" font-size=\"14.00\">类黄酮 &lt;= 2.154</text>\n<text text-anchor=\"middle\" x=\"622\" y=\"-632.8\" font-family=\"Helvetica,sans-Serif\" font-size=\"14.00\">entropy = 1.538</text>\n<text text-anchor=\"middle\" x=\"622\" y=\"-617.8\" font-family=\"Helvetica,sans-Serif\" font-size=\"14.00\">samples = 124</text>\n<text text-anchor=\"middle\" x=\"622\" y=\"-602.8\" font-family=\"Helvetica,sans-Serif\" font-size=\"14.00\">value = [48, 49, 27]</text>\n<text text-anchor=\"middle\" x=\"622\" y=\"-587.8\" font-family=\"Helvetica,sans-Serif\" font-size=\"14.00\">class = 雪莉</text>\n</g>\n<!-- 1 -->\n<g id=\"node2\" class=\"node\">\n<title>1</title>\n<path fill=\"#faf8fe\" stroke=\"black\" d=\"M588,-544C588,-544 388,-544 388,-544 382,-544 376,-538 376,-532 376,-532 376,-473 376,-473 376,-467 382,-461 388,-461 388,-461 588,-461 588,-461 594,-461 600,-467 600,-473 600,-473 600,-532 600,-532 600,-538 594,-544 588,-544\"/>\n<text text-anchor=\"middle\" x=\"488\" y=\"-528.8\" font-family=\"Helvetica,sans-Serif\" font-size=\"14.00\">od280/od315稀释葡萄酒 &lt;= 2.222</text>\n<text text-anchor=\"middle\" x=\"488\" y=\"-513.8\" font-family=\"Helvetica,sans-Serif\" font-size=\"14.00\">entropy = 1.0</text>\n<text text-anchor=\"middle\" x=\"488\" y=\"-498.8\" font-family=\"Helvetica,sans-Serif\" font-size=\"14.00\">samples = 53</text>\n<text text-anchor=\"middle\" x=\"488\" y=\"-483.8\" font-family=\"Helvetica,sans-Serif\" font-size=\"14.00\">value = [0, 26, 27]</text>\n<text text-anchor=\"middle\" x=\"488\" y=\"-468.8\" font-family=\"Helvetica,sans-Serif\" font-size=\"14.00\">class = 贝尔摩德</text>\n</g>\n<!-- 0&#45;&gt;1 -->\n<g id=\"edge1\" class=\"edge\">\n<title>0&#45;&gt;1</title>\n<path fill=\"none\" stroke=\"black\" d=\"M575.51,-579.91C564.7,-570.47 553.1,-560.34 542,-550.65\"/>\n<polygon fill=\"black\" stroke=\"black\" points=\"544.24,-547.96 534.41,-544.02 539.64,-553.23 544.24,-547.96\"/>\n<text text-anchor=\"middle\" x=\"536.1\" y=\"-565.26\" font-family=\"Helvetica,sans-Serif\" font-size=\"14.00\">True</text>\n</g>\n<!-- 12 -->\n<g id=\"node13\" class=\"node\">\n<title>12</title>\n<path fill=\"#f1bd98\" stroke=\"black\" d=\"M835.5,-544C835.5,-544 734.5,-544 734.5,-544 728.5,-544 722.5,-538 722.5,-532 722.5,-532 722.5,-473 722.5,-473 722.5,-467 728.5,-461 734.5,-461 734.5,-461 835.5,-461 835.5,-461 841.5,-461 847.5,-467 847.5,-473 847.5,-473 847.5,-532 847.5,-532 847.5,-538 841.5,-544 835.5,-544\"/>\n<text text-anchor=\"middle\" x=\"785\" y=\"-528.8\" font-family=\"Helvetica,sans-Serif\" font-size=\"14.00\">酒精 &lt;= 12.947</text>\n<text text-anchor=\"middle\" x=\"785\" y=\"-513.8\" font-family=\"Helvetica,sans-Serif\" font-size=\"14.00\">entropy = 0.909</text>\n<text text-anchor=\"middle\" x=\"785\" y=\"-498.8\" font-family=\"Helvetica,sans-Serif\" font-size=\"14.00\">samples = 71</text>\n<text text-anchor=\"middle\" x=\"785\" y=\"-483.8\" font-family=\"Helvetica,sans-Serif\" font-size=\"14.00\">value = [48, 23, 0]</text>\n<text text-anchor=\"middle\" x=\"785\" y=\"-468.8\" font-family=\"Helvetica,sans-Serif\" font-size=\"14.00\">class = 琴酒</text>\n</g>\n<!-- 0&#45;&gt;12 -->\n<g id=\"edge12\" class=\"edge\">\n<title>0&#45;&gt;12</title>\n<path fill=\"none\" stroke=\"black\" d=\"M678.55,-579.91C691.95,-570.29 706.35,-559.95 720.09,-550.09\"/>\n<polygon fill=\"black\" stroke=\"black\" points=\"722.47,-552.7 728.55,-544.02 718.38,-547.01 722.47,-552.7\"/>\n<text text-anchor=\"middle\" x=\"724.5\" y=\"-564.99\" font-family=\"Helvetica,sans-Serif\" font-size=\"14.00\">False</text>\n</g>\n<!-- 2 -->\n<g id=\"node3\" class=\"node\">\n<title>2</title>\n<path fill=\"#9e67eb\" stroke=\"black\" d=\"M362,-425C362,-425 266,-425 266,-425 260,-425 254,-419 254,-413 254,-413 254,-354 254,-354 254,-348 260,-342 266,-342 266,-342 362,-342 362,-342 368,-342 374,-348 374,-354 374,-354 374,-413 374,-413 374,-419 368,-425 362,-425\"/>\n<text text-anchor=\"middle\" x=\"314\" y=\"-409.8\" font-family=\"Helvetica,sans-Serif\" font-size=\"14.00\">色调 &lt;= 0.961</text>\n<text text-anchor=\"middle\" x=\"314\" y=\"-394.8\" font-family=\"Helvetica,sans-Serif\" font-size=\"14.00\">entropy = 0.696</text>\n<text text-anchor=\"middle\" x=\"314\" y=\"-379.8\" font-family=\"Helvetica,sans-Serif\" font-size=\"14.00\">samples = 32</text>\n<text text-anchor=\"middle\" x=\"314\" y=\"-364.8\" font-family=\"Helvetica,sans-Serif\" font-size=\"14.00\">value = [0, 6, 26]</text>\n<text text-anchor=\"middle\" x=\"314\" y=\"-349.8\" font-family=\"Helvetica,sans-Serif\" font-size=\"14.00\">class = 贝尔摩德</text>\n</g>\n<!-- 1&#45;&gt;2 -->\n<g id=\"edge2\" class=\"edge\">\n<title>1&#45;&gt;2</title>\n<path fill=\"none\" stroke=\"black\" d=\"M427.63,-460.91C413.19,-451.2 397.67,-440.76 382.87,-430.81\"/>\n<polygon fill=\"black\" stroke=\"black\" points=\"384.51,-427.7 374.26,-425.02 380.61,-433.51 384.51,-427.7\"/>\n</g>\n<!-- 9 -->\n<g id=\"node10\" class=\"node\">\n<title>9</title>\n<path fill=\"#43e687\" stroke=\"black\" d=\"M534.5,-425C534.5,-425 441.5,-425 441.5,-425 435.5,-425 429.5,-419 429.5,-413 429.5,-413 429.5,-354 429.5,-354 429.5,-348 435.5,-342 441.5,-342 441.5,-342 534.5,-342 534.5,-342 540.5,-342 546.5,-348 546.5,-354 546.5,-354 546.5,-413 546.5,-413 546.5,-419 540.5,-425 534.5,-425\"/>\n<text text-anchor=\"middle\" x=\"488\" y=\"-409.8\" font-family=\"Helvetica,sans-Serif\" font-size=\"14.00\">类黄酮 &lt;= 0.827</text>\n<text text-anchor=\"middle\" x=\"488\" y=\"-394.8\" font-family=\"Helvetica,sans-Serif\" font-size=\"14.00\">entropy = 0.276</text>\n<text text-anchor=\"middle\" x=\"488\" y=\"-379.8\" font-family=\"Helvetica,sans-Serif\" font-size=\"14.00\">samples = 21</text>\n<text text-anchor=\"middle\" x=\"488\" y=\"-364.8\" font-family=\"Helvetica,sans-Serif\" font-size=\"14.00\">value = [0, 20, 1]</text>\n<text text-anchor=\"middle\" x=\"488\" y=\"-349.8\" font-family=\"Helvetica,sans-Serif\" font-size=\"14.00\">class = 雪莉</text>\n</g>\n<!-- 1&#45;&gt;9 -->\n<g id=\"edge9\" class=\"edge\">\n<title>1&#45;&gt;9</title>\n<path fill=\"none\" stroke=\"black\" d=\"M488,-460.91C488,-452.65 488,-443.86 488,-435.3\"/>\n<polygon fill=\"black\" stroke=\"black\" points=\"491.5,-435.02 488,-425.02 484.5,-435.02 491.5,-435.02\"/>\n</g>\n<!-- 3 -->\n<g id=\"node4\" class=\"node\">\n<title>3</title>\n<path fill=\"#8b48e7\" stroke=\"black\" d=\"M229,-306C229,-306 29,-306 29,-306 23,-306 17,-300 17,-294 17,-294 17,-235 17,-235 17,-229 23,-223 29,-223 29,-223 229,-223 229,-223 235,-223 241,-229 241,-235 241,-235 241,-294 241,-294 241,-300 235,-306 229,-306\"/>\n<text text-anchor=\"middle\" x=\"129\" y=\"-290.8\" font-family=\"Helvetica,sans-Serif\" font-size=\"14.00\">od280/od315稀释葡萄酒 &lt;= 1.908</text>\n<text text-anchor=\"middle\" x=\"129\" y=\"-275.8\" font-family=\"Helvetica,sans-Serif\" font-size=\"14.00\">entropy = 0.371</text>\n<text text-anchor=\"middle\" x=\"129\" y=\"-260.8\" font-family=\"Helvetica,sans-Serif\" font-size=\"14.00\">samples = 28</text>\n<text text-anchor=\"middle\" x=\"129\" y=\"-245.8\" font-family=\"Helvetica,sans-Serif\" font-size=\"14.00\">value = [0, 2, 26]</text>\n<text text-anchor=\"middle\" x=\"129\" y=\"-230.8\" font-family=\"Helvetica,sans-Serif\" font-size=\"14.00\">class = 贝尔摩德</text>\n</g>\n<!-- 2&#45;&gt;3 -->\n<g id=\"edge3\" class=\"edge\">\n<title>2&#45;&gt;3</title>\n<path fill=\"none\" stroke=\"black\" d=\"M253.94,-344.51C237.4,-334.06 219.29,-322.6 202.11,-311.74\"/>\n<polygon fill=\"black\" stroke=\"black\" points=\"203.55,-308.51 193.23,-306.12 199.81,-314.42 203.55,-308.51\"/>\n</g>\n<!-- 8 -->\n<g id=\"node9\" class=\"node\">\n<title>8</title>\n<path fill=\"#39e581\" stroke=\"black\" d=\"M357,-298.5C357,-298.5 271,-298.5 271,-298.5 265,-298.5 259,-292.5 259,-286.5 259,-286.5 259,-242.5 259,-242.5 259,-236.5 265,-230.5 271,-230.5 271,-230.5 357,-230.5 357,-230.5 363,-230.5 369,-236.5 369,-242.5 369,-242.5 369,-286.5 369,-286.5 369,-292.5 363,-298.5 357,-298.5\"/>\n<text text-anchor=\"middle\" x=\"314\" y=\"-283.3\" font-family=\"Helvetica,sans-Serif\" font-size=\"14.00\">entropy = 0.0</text>\n<text text-anchor=\"middle\" x=\"314\" y=\"-268.3\" font-family=\"Helvetica,sans-Serif\" font-size=\"14.00\">samples = 4</text>\n<text text-anchor=\"middle\" x=\"314\" y=\"-253.3\" font-family=\"Helvetica,sans-Serif\" font-size=\"14.00\">value = [0, 4, 0]</text>\n<text text-anchor=\"middle\" x=\"314\" y=\"-238.3\" font-family=\"Helvetica,sans-Serif\" font-size=\"14.00\">class = 雪莉</text>\n</g>\n<!-- 2&#45;&gt;8 -->\n<g id=\"edge8\" class=\"edge\">\n<title>2&#45;&gt;8</title>\n<path fill=\"none\" stroke=\"black\" d=\"M314,-341.91C314,-331.2 314,-319.62 314,-308.78\"/>\n<polygon fill=\"black\" stroke=\"black\" points=\"317.5,-308.67 314,-298.67 310.5,-308.67 317.5,-308.67\"/>\n</g>\n<!-- 4 -->\n<g id=\"node5\" class=\"node\">\n<title>4</title>\n<path fill=\"#8139e5\" stroke=\"black\" d=\"M108,-179.5C108,-179.5 12,-179.5 12,-179.5 6,-179.5 0,-173.5 0,-167.5 0,-167.5 0,-123.5 0,-123.5 0,-117.5 6,-111.5 12,-111.5 12,-111.5 108,-111.5 108,-111.5 114,-111.5 120,-117.5 120,-123.5 120,-123.5 120,-167.5 120,-167.5 120,-173.5 114,-179.5 108,-179.5\"/>\n<text text-anchor=\"middle\" x=\"60\" y=\"-164.3\" font-family=\"Helvetica,sans-Serif\" font-size=\"14.00\">entropy = 0.0</text>\n<text text-anchor=\"middle\" x=\"60\" y=\"-149.3\" font-family=\"Helvetica,sans-Serif\" font-size=\"14.00\">samples = 21</text>\n<text text-anchor=\"middle\" x=\"60\" y=\"-134.3\" font-family=\"Helvetica,sans-Serif\" font-size=\"14.00\">value = [0, 0, 21]</text>\n<text text-anchor=\"middle\" x=\"60\" y=\"-119.3\" font-family=\"Helvetica,sans-Serif\" font-size=\"14.00\">class = 贝尔摩德</text>\n</g>\n<!-- 3&#45;&gt;4 -->\n<g id=\"edge4\" class=\"edge\">\n<title>3&#45;&gt;4</title>\n<path fill=\"none\" stroke=\"black\" d=\"M105.06,-222.91C98.49,-211.76 91.35,-199.66 84.73,-188.44\"/>\n<polygon fill=\"black\" stroke=\"black\" points=\"87.65,-186.5 79.56,-179.67 81.63,-190.06 87.65,-186.5\"/>\n</g>\n<!-- 5 -->\n<g id=\"node6\" class=\"node\">\n<title>5</title>\n<path fill=\"#b388ef\" stroke=\"black\" d=\"M246,-187C246,-187 150,-187 150,-187 144,-187 138,-181 138,-175 138,-175 138,-116 138,-116 138,-110 144,-104 150,-104 150,-104 246,-104 246,-104 252,-104 258,-110 258,-116 258,-116 258,-175 258,-175 258,-181 252,-187 246,-187\"/>\n<text text-anchor=\"middle\" x=\"198\" y=\"-171.8\" font-family=\"Helvetica,sans-Serif\" font-size=\"14.00\">镁 &lt;= 86.708</text>\n<text text-anchor=\"middle\" x=\"198\" y=\"-156.8\" font-family=\"Helvetica,sans-Serif\" font-size=\"14.00\">entropy = 0.863</text>\n<text text-anchor=\"middle\" x=\"198\" y=\"-141.8\" font-family=\"Helvetica,sans-Serif\" font-size=\"14.00\">samples = 7</text>\n<text text-anchor=\"middle\" x=\"198\" y=\"-126.8\" font-family=\"Helvetica,sans-Serif\" font-size=\"14.00\">value = [0, 2, 5]</text>\n<text text-anchor=\"middle\" x=\"198\" y=\"-111.8\" font-family=\"Helvetica,sans-Serif\" font-size=\"14.00\">class = 贝尔摩德</text>\n</g>\n<!-- 3&#45;&gt;5 -->\n<g id=\"edge5\" class=\"edge\">\n<title>3&#45;&gt;5</title>\n<path fill=\"none\" stroke=\"black\" d=\"M152.94,-222.91C158.08,-214.2 163.56,-204.9 168.87,-195.89\"/>\n<polygon fill=\"black\" stroke=\"black\" points=\"172.04,-197.41 174.1,-187.02 166.01,-193.86 172.04,-197.41\"/>\n</g>\n<!-- 6 -->\n<g id=\"node7\" class=\"node\">\n<title>6</title>\n<path fill=\"#39e581\" stroke=\"black\" d=\"M174,-68C174,-68 88,-68 88,-68 82,-68 76,-62 76,-56 76,-56 76,-12 76,-12 76,-6 82,0 88,0 88,0 174,0 174,0 180,0 186,-6 186,-12 186,-12 186,-56 186,-56 186,-62 180,-68 174,-68\"/>\n<text text-anchor=\"middle\" x=\"131\" y=\"-52.8\" font-family=\"Helvetica,sans-Serif\" font-size=\"14.00\">entropy = 0.0</text>\n<text text-anchor=\"middle\" x=\"131\" y=\"-37.8\" font-family=\"Helvetica,sans-Serif\" font-size=\"14.00\">samples = 2</text>\n<text text-anchor=\"middle\" x=\"131\" y=\"-22.8\" font-family=\"Helvetica,sans-Serif\" font-size=\"14.00\">value = [0, 2, 0]</text>\n<text text-anchor=\"middle\" x=\"131\" y=\"-7.8\" font-family=\"Helvetica,sans-Serif\" font-size=\"14.00\">class = 雪莉</text>\n</g>\n<!-- 5&#45;&gt;6 -->\n<g id=\"edge6\" class=\"edge\">\n<title>5&#45;&gt;6</title>\n<path fill=\"none\" stroke=\"black\" d=\"M173.05,-103.73C167.69,-94.97 162.02,-85.7 156.64,-76.91\"/>\n<polygon fill=\"black\" stroke=\"black\" points=\"159.58,-75 151.38,-68.3 153.61,-78.66 159.58,-75\"/>\n</g>\n<!-- 7 -->\n<g id=\"node8\" class=\"node\">\n<title>7</title>\n<path fill=\"#8139e5\" stroke=\"black\" d=\"M312,-68C312,-68 216,-68 216,-68 210,-68 204,-62 204,-56 204,-56 204,-12 204,-12 204,-6 210,0 216,0 216,0 312,0 312,0 318,0 324,-6 324,-12 324,-12 324,-56 324,-56 324,-62 318,-68 312,-68\"/>\n<text text-anchor=\"middle\" x=\"264\" y=\"-52.8\" font-family=\"Helvetica,sans-Serif\" font-size=\"14.00\">entropy = 0.0</text>\n<text text-anchor=\"middle\" x=\"264\" y=\"-37.8\" font-family=\"Helvetica,sans-Serif\" font-size=\"14.00\">samples = 5</text>\n<text text-anchor=\"middle\" x=\"264\" y=\"-22.8\" font-family=\"Helvetica,sans-Serif\" font-size=\"14.00\">value = [0, 0, 5]</text>\n<text text-anchor=\"middle\" x=\"264\" y=\"-7.8\" font-family=\"Helvetica,sans-Serif\" font-size=\"14.00\">class = 贝尔摩德</text>\n</g>\n<!-- 5&#45;&gt;7 -->\n<g id=\"edge7\" class=\"edge\">\n<title>5&#45;&gt;7</title>\n<path fill=\"none\" stroke=\"black\" d=\"M222.58,-103.73C227.85,-94.97 233.44,-85.7 238.74,-76.91\"/>\n<polygon fill=\"black\" stroke=\"black\" points=\"241.76,-78.67 243.93,-68.3 235.77,-75.06 241.76,-78.67\"/>\n</g>\n<!-- 10 -->\n<g id=\"node11\" class=\"node\">\n<title>10</title>\n<path fill=\"#8139e5\" stroke=\"black\" d=\"M495,-298.5C495,-298.5 399,-298.5 399,-298.5 393,-298.5 387,-292.5 387,-286.5 387,-286.5 387,-242.5 387,-242.5 387,-236.5 393,-230.5 399,-230.5 399,-230.5 495,-230.5 495,-230.5 501,-230.5 507,-236.5 507,-242.5 507,-242.5 507,-286.5 507,-286.5 507,-292.5 501,-298.5 495,-298.5\"/>\n<text text-anchor=\"middle\" x=\"447\" y=\"-283.3\" font-family=\"Helvetica,sans-Serif\" font-size=\"14.00\">entropy = 0.0</text>\n<text text-anchor=\"middle\" x=\"447\" y=\"-268.3\" font-family=\"Helvetica,sans-Serif\" font-size=\"14.00\">samples = 1</text>\n<text text-anchor=\"middle\" x=\"447\" y=\"-253.3\" font-family=\"Helvetica,sans-Serif\" font-size=\"14.00\">value = [0, 0, 1]</text>\n<text text-anchor=\"middle\" x=\"447\" y=\"-238.3\" font-family=\"Helvetica,sans-Serif\" font-size=\"14.00\">class = 贝尔摩德</text>\n</g>\n<!-- 9&#45;&gt;10 -->\n<g id=\"edge10\" class=\"edge\">\n<title>9&#45;&gt;10</title>\n<path fill=\"none\" stroke=\"black\" d=\"M473.78,-341.91C469.95,-330.98 465.8,-319.14 461.93,-308.11\"/>\n<polygon fill=\"black\" stroke=\"black\" points=\"465.23,-306.95 458.62,-298.67 458.63,-309.26 465.23,-306.95\"/>\n</g>\n<!-- 11 -->\n<g id=\"node12\" class=\"node\">\n<title>11</title>\n<path fill=\"#39e581\" stroke=\"black\" d=\"M630.5,-298.5C630.5,-298.5 537.5,-298.5 537.5,-298.5 531.5,-298.5 525.5,-292.5 525.5,-286.5 525.5,-286.5 525.5,-242.5 525.5,-242.5 525.5,-236.5 531.5,-230.5 537.5,-230.5 537.5,-230.5 630.5,-230.5 630.5,-230.5 636.5,-230.5 642.5,-236.5 642.5,-242.5 642.5,-242.5 642.5,-286.5 642.5,-286.5 642.5,-292.5 636.5,-298.5 630.5,-298.5\"/>\n<text text-anchor=\"middle\" x=\"584\" y=\"-283.3\" font-family=\"Helvetica,sans-Serif\" font-size=\"14.00\">entropy = 0.0</text>\n<text text-anchor=\"middle\" x=\"584\" y=\"-268.3\" font-family=\"Helvetica,sans-Serif\" font-size=\"14.00\">samples = 20</text>\n<text text-anchor=\"middle\" x=\"584\" y=\"-253.3\" font-family=\"Helvetica,sans-Serif\" font-size=\"14.00\">value = [0, 20, 0]</text>\n<text text-anchor=\"middle\" x=\"584\" y=\"-238.3\" font-family=\"Helvetica,sans-Serif\" font-size=\"14.00\">class = 雪莉</text>\n</g>\n<!-- 9&#45;&gt;11 -->\n<g id=\"edge11\" class=\"edge\">\n<title>9&#45;&gt;11</title>\n<path fill=\"none\" stroke=\"black\" d=\"M521.31,-341.91C530.72,-330.43 540.97,-317.94 550.41,-306.44\"/>\n<polygon fill=\"black\" stroke=\"black\" points=\"553.15,-308.62 556.79,-298.67 547.74,-304.18 553.15,-308.62\"/>\n</g>\n<!-- 13 -->\n<g id=\"node14\" class=\"node\">\n<title>13</title>\n<path fill=\"#4de88e\" stroke=\"black\" d=\"M831.5,-425C831.5,-425 738.5,-425 738.5,-425 732.5,-425 726.5,-419 726.5,-413 726.5,-413 726.5,-354 726.5,-354 726.5,-348 732.5,-342 738.5,-342 738.5,-342 831.5,-342 831.5,-342 837.5,-342 843.5,-348 843.5,-354 843.5,-354 843.5,-413 843.5,-413 843.5,-419 837.5,-425 831.5,-425\"/>\n<text text-anchor=\"middle\" x=\"785\" y=\"-409.8\" font-family=\"Helvetica,sans-Serif\" font-size=\"14.00\">颜色强度 &lt;= 3.0</text>\n<text text-anchor=\"middle\" x=\"785\" y=\"-394.8\" font-family=\"Helvetica,sans-Serif\" font-size=\"14.00\">entropy = 0.439</text>\n<text text-anchor=\"middle\" x=\"785\" y=\"-379.8\" font-family=\"Helvetica,sans-Serif\" font-size=\"14.00\">samples = 22</text>\n<text text-anchor=\"middle\" x=\"785\" y=\"-364.8\" font-family=\"Helvetica,sans-Serif\" font-size=\"14.00\">value = [2, 20, 0]</text>\n<text text-anchor=\"middle\" x=\"785\" y=\"-349.8\" font-family=\"Helvetica,sans-Serif\" font-size=\"14.00\">class = 雪莉</text>\n</g>\n<!-- 12&#45;&gt;13 -->\n<g id=\"edge13\" class=\"edge\">\n<title>12&#45;&gt;13</title>\n<path fill=\"none\" stroke=\"black\" d=\"M785,-460.91C785,-452.65 785,-443.86 785,-435.3\"/>\n<polygon fill=\"black\" stroke=\"black\" points=\"788.5,-435.02 785,-425.02 781.5,-435.02 788.5,-435.02\"/>\n</g>\n<!-- 20 -->\n<g id=\"node21\" class=\"node\">\n<title>20</title>\n<path fill=\"#e78946\" stroke=\"black\" d=\"M1105,-425C1105,-425 989,-425 989,-425 983,-425 977,-419 977,-413 977,-413 977,-354 977,-354 977,-348 983,-342 989,-342 989,-342 1105,-342 1105,-342 1111,-342 1117,-348 1117,-354 1117,-354 1117,-413 1117,-413 1117,-419 1111,-425 1105,-425\"/>\n<text text-anchor=\"middle\" x=\"1047\" y=\"-409.8\" font-family=\"Helvetica,sans-Serif\" font-size=\"14.00\">脯氨酸 &lt;= 1051.759</text>\n<text text-anchor=\"middle\" x=\"1047\" y=\"-394.8\" font-family=\"Helvetica,sans-Serif\" font-size=\"14.00\">entropy = 0.332</text>\n<text text-anchor=\"middle\" x=\"1047\" y=\"-379.8\" font-family=\"Helvetica,sans-Serif\" font-size=\"14.00\">samples = 49</text>\n<text text-anchor=\"middle\" x=\"1047\" y=\"-364.8\" font-family=\"Helvetica,sans-Serif\" font-size=\"14.00\">value = [46, 3, 0]</text>\n<text text-anchor=\"middle\" x=\"1047\" y=\"-349.8\" font-family=\"Helvetica,sans-Serif\" font-size=\"14.00\">class = 琴酒</text>\n</g>\n<!-- 12&#45;&gt;20 -->\n<g id=\"edge20\" class=\"edge\">\n<title>12&#45;&gt;20</title>\n<path fill=\"none\" stroke=\"black\" d=\"M847.76,-473.48C883.62,-457.46 928.96,-437.21 967.32,-420.08\"/>\n<polygon fill=\"black\" stroke=\"black\" points=\"969.21,-423.07 976.91,-415.8 966.36,-416.68 969.21,-423.07\"/>\n</g>\n<!-- 14 -->\n<g id=\"node15\" class=\"node\">\n<title>14</title>\n<path fill=\"#39e581\" stroke=\"black\" d=\"M765.5,-298.5C765.5,-298.5 672.5,-298.5 672.5,-298.5 666.5,-298.5 660.5,-292.5 660.5,-286.5 660.5,-286.5 660.5,-242.5 660.5,-242.5 660.5,-236.5 666.5,-230.5 672.5,-230.5 672.5,-230.5 765.5,-230.5 765.5,-230.5 771.5,-230.5 777.5,-236.5 777.5,-242.5 777.5,-242.5 777.5,-286.5 777.5,-286.5 777.5,-292.5 771.5,-298.5 765.5,-298.5\"/>\n<text text-anchor=\"middle\" x=\"719\" y=\"-283.3\" font-family=\"Helvetica,sans-Serif\" font-size=\"14.00\">entropy = 0.0</text>\n<text text-anchor=\"middle\" x=\"719\" y=\"-268.3\" font-family=\"Helvetica,sans-Serif\" font-size=\"14.00\">samples = 12</text>\n<text text-anchor=\"middle\" x=\"719\" y=\"-253.3\" font-family=\"Helvetica,sans-Serif\" font-size=\"14.00\">value = [0, 12, 0]</text>\n<text text-anchor=\"middle\" x=\"719\" y=\"-238.3\" font-family=\"Helvetica,sans-Serif\" font-size=\"14.00\">class = 雪莉</text>\n</g>\n<!-- 13&#45;&gt;14 -->\n<g id=\"edge14\" class=\"edge\">\n<title>13&#45;&gt;14</title>\n<path fill=\"none\" stroke=\"black\" d=\"M762.1,-341.91C755.81,-330.76 748.99,-318.66 742.66,-307.44\"/>\n<polygon fill=\"black\" stroke=\"black\" points=\"745.67,-305.66 737.71,-298.67 739.57,-309.1 745.67,-305.66\"/>\n</g>\n<!-- 15 -->\n<g id=\"node16\" class=\"node\">\n<title>15</title>\n<path fill=\"#6aeca0\" stroke=\"black\" d=\"M894.5,-306C894.5,-306 807.5,-306 807.5,-306 801.5,-306 795.5,-300 795.5,-294 795.5,-294 795.5,-235 795.5,-235 795.5,-229 801.5,-223 807.5,-223 807.5,-223 894.5,-223 894.5,-223 900.5,-223 906.5,-229 906.5,-235 906.5,-235 906.5,-294 906.5,-294 906.5,-300 900.5,-306 894.5,-306\"/>\n<text text-anchor=\"middle\" x=\"851\" y=\"-290.8\" font-family=\"Helvetica,sans-Serif\" font-size=\"14.00\">酒精 &lt;= 12.463</text>\n<text text-anchor=\"middle\" x=\"851\" y=\"-275.8\" font-family=\"Helvetica,sans-Serif\" font-size=\"14.00\">entropy = 0.722</text>\n<text text-anchor=\"middle\" x=\"851\" y=\"-260.8\" font-family=\"Helvetica,sans-Serif\" font-size=\"14.00\">samples = 10</text>\n<text text-anchor=\"middle\" x=\"851\" y=\"-245.8\" font-family=\"Helvetica,sans-Serif\" font-size=\"14.00\">value = [2, 8, 0]</text>\n<text text-anchor=\"middle\" x=\"851\" y=\"-230.8\" font-family=\"Helvetica,sans-Serif\" font-size=\"14.00\">class = 雪莉</text>\n</g>\n<!-- 13&#45;&gt;15 -->\n<g id=\"edge15\" class=\"edge\">\n<title>13&#45;&gt;15</title>\n<path fill=\"none\" stroke=\"black\" d=\"M807.9,-341.91C812.81,-333.2 818.06,-323.9 823.14,-314.89\"/>\n<polygon fill=\"black\" stroke=\"black\" points=\"826.28,-316.45 828.14,-306.02 820.18,-313.01 826.28,-316.45\"/>\n</g>\n<!-- 16 -->\n<g id=\"node17\" class=\"node\">\n<title>16</title>\n<path fill=\"#39e581\" stroke=\"black\" d=\"M755,-179.5C755,-179.5 669,-179.5 669,-179.5 663,-179.5 657,-173.5 657,-167.5 657,-167.5 657,-123.5 657,-123.5 657,-117.5 663,-111.5 669,-111.5 669,-111.5 755,-111.5 755,-111.5 761,-111.5 767,-117.5 767,-123.5 767,-123.5 767,-167.5 767,-167.5 767,-173.5 761,-179.5 755,-179.5\"/>\n<text text-anchor=\"middle\" x=\"712\" y=\"-164.3\" font-family=\"Helvetica,sans-Serif\" font-size=\"14.00\">entropy = 0.0</text>\n<text text-anchor=\"middle\" x=\"712\" y=\"-149.3\" font-family=\"Helvetica,sans-Serif\" font-size=\"14.00\">samples = 7</text>\n<text text-anchor=\"middle\" x=\"712\" y=\"-134.3\" font-family=\"Helvetica,sans-Serif\" font-size=\"14.00\">value = [0, 7, 0]</text>\n<text text-anchor=\"middle\" x=\"712\" y=\"-119.3\" font-family=\"Helvetica,sans-Serif\" font-size=\"14.00\">class = 雪莉</text>\n</g>\n<!-- 15&#45;&gt;16 -->\n<g id=\"edge16\" class=\"edge\">\n<title>15&#45;&gt;16</title>\n<path fill=\"none\" stroke=\"black\" d=\"M802.77,-222.91C788.62,-210.99 773.15,-197.98 759.07,-186.12\"/>\n<polygon fill=\"black\" stroke=\"black\" points=\"761.31,-183.43 751.4,-179.67 756.8,-188.78 761.31,-183.43\"/>\n</g>\n<!-- 17 -->\n<g id=\"node18\" class=\"node\">\n<title>17</title>\n<path fill=\"#f2c09c\" stroke=\"black\" d=\"M905,-187C905,-187 797,-187 797,-187 791,-187 785,-181 785,-175 785,-175 785,-116 785,-116 785,-110 791,-104 797,-104 797,-104 905,-104 905,-104 911,-104 917,-110 917,-116 917,-116 917,-175 917,-175 917,-181 911,-187 905,-187\"/>\n<text text-anchor=\"middle\" x=\"851\" y=\"-171.8\" font-family=\"Helvetica,sans-Serif\" font-size=\"14.00\">脯氨酸 &lt;= 720.724</text>\n<text text-anchor=\"middle\" x=\"851\" y=\"-156.8\" font-family=\"Helvetica,sans-Serif\" font-size=\"14.00\">entropy = 0.918</text>\n<text text-anchor=\"middle\" x=\"851\" y=\"-141.8\" font-family=\"Helvetica,sans-Serif\" font-size=\"14.00\">samples = 3</text>\n<text text-anchor=\"middle\" x=\"851\" y=\"-126.8\" font-family=\"Helvetica,sans-Serif\" font-size=\"14.00\">value = [2, 1, 0]</text>\n<text text-anchor=\"middle\" x=\"851\" y=\"-111.8\" font-family=\"Helvetica,sans-Serif\" font-size=\"14.00\">class = 琴酒</text>\n</g>\n<!-- 15&#45;&gt;17 -->\n<g id=\"edge17\" class=\"edge\">\n<title>15&#45;&gt;17</title>\n<path fill=\"none\" stroke=\"black\" d=\"M851,-222.91C851,-214.65 851,-205.86 851,-197.3\"/>\n<polygon fill=\"black\" stroke=\"black\" points=\"854.5,-197.02 851,-187.02 847.5,-197.02 854.5,-197.02\"/>\n</g>\n<!-- 18 -->\n<g id=\"node19\" class=\"node\">\n<title>18</title>\n<path fill=\"#39e581\" stroke=\"black\" d=\"M783,-68C783,-68 697,-68 697,-68 691,-68 685,-62 685,-56 685,-56 685,-12 685,-12 685,-6 691,0 697,0 697,0 783,0 783,0 789,0 795,-6 795,-12 795,-12 795,-56 795,-56 795,-62 789,-68 783,-68\"/>\n<text text-anchor=\"middle\" x=\"740\" y=\"-52.8\" font-family=\"Helvetica,sans-Serif\" font-size=\"14.00\">entropy = 0.0</text>\n<text text-anchor=\"middle\" x=\"740\" y=\"-37.8\" font-family=\"Helvetica,sans-Serif\" font-size=\"14.00\">samples = 1</text>\n<text text-anchor=\"middle\" x=\"740\" y=\"-22.8\" font-family=\"Helvetica,sans-Serif\" font-size=\"14.00\">value = [0, 1, 0]</text>\n<text text-anchor=\"middle\" x=\"740\" y=\"-7.8\" font-family=\"Helvetica,sans-Serif\" font-size=\"14.00\">class = 雪莉</text>\n</g>\n<!-- 17&#45;&gt;18 -->\n<g id=\"edge18\" class=\"edge\">\n<title>17&#45;&gt;18</title>\n<path fill=\"none\" stroke=\"black\" d=\"M809.67,-103.73C800.33,-94.51 790.42,-84.74 781.09,-75.53\"/>\n<polygon fill=\"black\" stroke=\"black\" points=\"783.33,-72.83 773.76,-68.3 778.42,-77.81 783.33,-72.83\"/>\n</g>\n<!-- 19 -->\n<g id=\"node20\" class=\"node\">\n<title>19</title>\n<path fill=\"#e58139\" stroke=\"black\" d=\"M911,-68C911,-68 825,-68 825,-68 819,-68 813,-62 813,-56 813,-56 813,-12 813,-12 813,-6 819,0 825,0 825,0 911,0 911,0 917,0 923,-6 923,-12 923,-12 923,-56 923,-56 923,-62 917,-68 911,-68\"/>\n<text text-anchor=\"middle\" x=\"868\" y=\"-52.8\" font-family=\"Helvetica,sans-Serif\" font-size=\"14.00\">entropy = 0.0</text>\n<text text-anchor=\"middle\" x=\"868\" y=\"-37.8\" font-family=\"Helvetica,sans-Serif\" font-size=\"14.00\">samples = 2</text>\n<text text-anchor=\"middle\" x=\"868\" y=\"-22.8\" font-family=\"Helvetica,sans-Serif\" font-size=\"14.00\">value = [2, 0, 0]</text>\n<text text-anchor=\"middle\" x=\"868\" y=\"-7.8\" font-family=\"Helvetica,sans-Serif\" font-size=\"14.00\">class = 琴酒</text>\n</g>\n<!-- 17&#45;&gt;19 -->\n<g id=\"edge19\" class=\"edge\">\n<title>17&#45;&gt;19</title>\n<path fill=\"none\" stroke=\"black\" d=\"M857.33,-103.73C858.62,-95.43 859.98,-86.67 861.28,-78.28\"/>\n<polygon fill=\"black\" stroke=\"black\" points=\"864.75,-78.72 862.83,-68.3 857.84,-77.64 864.75,-78.72\"/>\n</g>\n<!-- 21 -->\n<g id=\"node22\" class=\"node\">\n<title>21</title>\n<path fill=\"#ea9a61\" stroke=\"black\" d=\"M1101,-306C1101,-306 993,-306 993,-306 987,-306 981,-300 981,-294 981,-294 981,-235 981,-235 981,-229 987,-223 993,-223 993,-223 1101,-223 1101,-223 1107,-223 1113,-229 1113,-235 1113,-235 1113,-294 1113,-294 1113,-300 1107,-306 1101,-306\"/>\n<text text-anchor=\"middle\" x=\"1047\" y=\"-290.8\" font-family=\"Helvetica,sans-Serif\" font-size=\"14.00\">脯氨酸 &lt;= 686.699</text>\n<text text-anchor=\"middle\" x=\"1047\" y=\"-275.8\" font-family=\"Helvetica,sans-Serif\" font-size=\"14.00\">entropy = 0.65</text>\n<text text-anchor=\"middle\" x=\"1047\" y=\"-260.8\" font-family=\"Helvetica,sans-Serif\" font-size=\"14.00\">samples = 18</text>\n<text text-anchor=\"middle\" x=\"1047\" y=\"-245.8\" font-family=\"Helvetica,sans-Serif\" font-size=\"14.00\">value = [15, 3, 0]</text>\n<text text-anchor=\"middle\" x=\"1047\" y=\"-230.8\" font-family=\"Helvetica,sans-Serif\" font-size=\"14.00\">class = 琴酒</text>\n</g>\n<!-- 20&#45;&gt;21 -->\n<g id=\"edge21\" class=\"edge\">\n<title>20&#45;&gt;21</title>\n<path fill=\"none\" stroke=\"black\" d=\"M1047,-341.91C1047,-333.65 1047,-324.86 1047,-316.3\"/>\n<polygon fill=\"black\" stroke=\"black\" points=\"1050.5,-316.02 1047,-306.02 1043.5,-316.02 1050.5,-316.02\"/>\n</g>\n<!-- 26 -->\n<g id=\"node27\" class=\"node\">\n<title>26</title>\n<path fill=\"#e58139\" stroke=\"black\" d=\"M1236.5,-298.5C1236.5,-298.5 1143.5,-298.5 1143.5,-298.5 1137.5,-298.5 1131.5,-292.5 1131.5,-286.5 1131.5,-286.5 1131.5,-242.5 1131.5,-242.5 1131.5,-236.5 1137.5,-230.5 1143.5,-230.5 1143.5,-230.5 1236.5,-230.5 1236.5,-230.5 1242.5,-230.5 1248.5,-236.5 1248.5,-242.5 1248.5,-242.5 1248.5,-286.5 1248.5,-286.5 1248.5,-292.5 1242.5,-298.5 1236.5,-298.5\"/>\n<text text-anchor=\"middle\" x=\"1190\" y=\"-283.3\" font-family=\"Helvetica,sans-Serif\" font-size=\"14.00\">entropy = 0.0</text>\n<text text-anchor=\"middle\" x=\"1190\" y=\"-268.3\" font-family=\"Helvetica,sans-Serif\" font-size=\"14.00\">samples = 31</text>\n<text text-anchor=\"middle\" x=\"1190\" y=\"-253.3\" font-family=\"Helvetica,sans-Serif\" font-size=\"14.00\">value = [31, 0, 0]</text>\n<text text-anchor=\"middle\" x=\"1190\" y=\"-238.3\" font-family=\"Helvetica,sans-Serif\" font-size=\"14.00\">class = 琴酒</text>\n</g>\n<!-- 20&#45;&gt;26 -->\n<g id=\"edge26\" class=\"edge\">\n<title>20&#45;&gt;26</title>\n<path fill=\"none\" stroke=\"black\" d=\"M1096.61,-341.91C1111.18,-329.99 1127.09,-316.98 1141.58,-305.12\"/>\n<polygon fill=\"black\" stroke=\"black\" points=\"1143.94,-307.71 1149.46,-298.67 1139.51,-302.29 1143.94,-307.71\"/>\n</g>\n<!-- 22 -->\n<g id=\"node23\" class=\"node\">\n<title>22</title>\n<path fill=\"#7beeab\" stroke=\"black\" d=\"M1147,-187C1147,-187 947,-187 947,-187 941,-187 935,-181 935,-175 935,-175 935,-116 935,-116 935,-110 941,-104 947,-104 947,-104 1147,-104 1147,-104 1153,-104 1159,-110 1159,-116 1159,-116 1159,-175 1159,-175 1159,-181 1153,-187 1147,-187\"/>\n<text text-anchor=\"middle\" x=\"1047\" y=\"-171.8\" font-family=\"Helvetica,sans-Serif\" font-size=\"14.00\">od280/od315稀释葡萄酒 &lt;= 3.045</text>\n<text text-anchor=\"middle\" x=\"1047\" y=\"-156.8\" font-family=\"Helvetica,sans-Serif\" font-size=\"14.00\">entropy = 0.811</text>\n<text text-anchor=\"middle\" x=\"1047\" y=\"-141.8\" font-family=\"Helvetica,sans-Serif\" font-size=\"14.00\">samples = 4</text>\n<text text-anchor=\"middle\" x=\"1047\" y=\"-126.8\" font-family=\"Helvetica,sans-Serif\" font-size=\"14.00\">value = [1, 3, 0]</text>\n<text text-anchor=\"middle\" x=\"1047\" y=\"-111.8\" font-family=\"Helvetica,sans-Serif\" font-size=\"14.00\">class = 雪莉</text>\n</g>\n<!-- 21&#45;&gt;22 -->\n<g id=\"edge22\" class=\"edge\">\n<title>21&#45;&gt;22</title>\n<path fill=\"none\" stroke=\"black\" d=\"M1047,-222.91C1047,-214.65 1047,-205.86 1047,-197.3\"/>\n<polygon fill=\"black\" stroke=\"black\" points=\"1050.5,-197.02 1047,-187.02 1043.5,-197.02 1050.5,-197.02\"/>\n</g>\n<!-- 25 -->\n<g id=\"node26\" class=\"node\">\n<title>25</title>\n<path fill=\"#e58139\" stroke=\"black\" d=\"M1282.5,-179.5C1282.5,-179.5 1189.5,-179.5 1189.5,-179.5 1183.5,-179.5 1177.5,-173.5 1177.5,-167.5 1177.5,-167.5 1177.5,-123.5 1177.5,-123.5 1177.5,-117.5 1183.5,-111.5 1189.5,-111.5 1189.5,-111.5 1282.5,-111.5 1282.5,-111.5 1288.5,-111.5 1294.5,-117.5 1294.5,-123.5 1294.5,-123.5 1294.5,-167.5 1294.5,-167.5 1294.5,-173.5 1288.5,-179.5 1282.5,-179.5\"/>\n<text text-anchor=\"middle\" x=\"1236\" y=\"-164.3\" font-family=\"Helvetica,sans-Serif\" font-size=\"14.00\">entropy = 0.0</text>\n<text text-anchor=\"middle\" x=\"1236\" y=\"-149.3\" font-family=\"Helvetica,sans-Serif\" font-size=\"14.00\">samples = 14</text>\n<text text-anchor=\"middle\" x=\"1236\" y=\"-134.3\" font-family=\"Helvetica,sans-Serif\" font-size=\"14.00\">value = [14, 0, 0]</text>\n<text text-anchor=\"middle\" x=\"1236\" y=\"-119.3\" font-family=\"Helvetica,sans-Serif\" font-size=\"14.00\">class = 琴酒</text>\n</g>\n<!-- 21&#45;&gt;25 -->\n<g id=\"edge25\" class=\"edge\">\n<title>21&#45;&gt;25</title>\n<path fill=\"none\" stroke=\"black\" d=\"M1112.57,-222.91C1132.45,-210.6 1154.21,-197.13 1173.85,-184.97\"/>\n<polygon fill=\"black\" stroke=\"black\" points=\"1175.76,-187.91 1182.42,-179.67 1172.08,-181.95 1175.76,-187.91\"/>\n</g>\n<!-- 23 -->\n<g id=\"node24\" class=\"node\">\n<title>23</title>\n<path fill=\"#e58139\" stroke=\"black\" d=\"M1073,-68C1073,-68 987,-68 987,-68 981,-68 975,-62 975,-56 975,-56 975,-12 975,-12 975,-6 981,0 987,0 987,0 1073,0 1073,0 1079,0 1085,-6 1085,-12 1085,-12 1085,-56 1085,-56 1085,-62 1079,-68 1073,-68\"/>\n<text text-anchor=\"middle\" x=\"1030\" y=\"-52.8\" font-family=\"Helvetica,sans-Serif\" font-size=\"14.00\">entropy = 0.0</text>\n<text text-anchor=\"middle\" x=\"1030\" y=\"-37.8\" font-family=\"Helvetica,sans-Serif\" font-size=\"14.00\">samples = 1</text>\n<text text-anchor=\"middle\" x=\"1030\" y=\"-22.8\" font-family=\"Helvetica,sans-Serif\" font-size=\"14.00\">value = [1, 0, 0]</text>\n<text text-anchor=\"middle\" x=\"1030\" y=\"-7.8\" font-family=\"Helvetica,sans-Serif\" font-size=\"14.00\">class = 琴酒</text>\n</g>\n<!-- 22&#45;&gt;23 -->\n<g id=\"edge23\" class=\"edge\">\n<title>22&#45;&gt;23</title>\n<path fill=\"none\" stroke=\"black\" d=\"M1040.67,-103.73C1039.38,-95.43 1038.02,-86.67 1036.72,-78.28\"/>\n<polygon fill=\"black\" stroke=\"black\" points=\"1040.16,-77.64 1035.17,-68.3 1033.25,-78.72 1040.16,-77.64\"/>\n</g>\n<!-- 24 -->\n<g id=\"node25\" class=\"node\">\n<title>24</title>\n<path fill=\"#39e581\" stroke=\"black\" d=\"M1201,-68C1201,-68 1115,-68 1115,-68 1109,-68 1103,-62 1103,-56 1103,-56 1103,-12 1103,-12 1103,-6 1109,0 1115,0 1115,0 1201,0 1201,0 1207,0 1213,-6 1213,-12 1213,-12 1213,-56 1213,-56 1213,-62 1207,-68 1201,-68\"/>\n<text text-anchor=\"middle\" x=\"1158\" y=\"-52.8\" font-family=\"Helvetica,sans-Serif\" font-size=\"14.00\">entropy = 0.0</text>\n<text text-anchor=\"middle\" x=\"1158\" y=\"-37.8\" font-family=\"Helvetica,sans-Serif\" font-size=\"14.00\">samples = 3</text>\n<text text-anchor=\"middle\" x=\"1158\" y=\"-22.8\" font-family=\"Helvetica,sans-Serif\" font-size=\"14.00\">value = [0, 3, 0]</text>\n<text text-anchor=\"middle\" x=\"1158\" y=\"-7.8\" font-family=\"Helvetica,sans-Serif\" font-size=\"14.00\">class = 雪莉</text>\n</g>\n<!-- 22&#45;&gt;24 -->\n<g id=\"edge24\" class=\"edge\">\n<title>22&#45;&gt;24</title>\n<path fill=\"none\" stroke=\"black\" d=\"M1088.33,-103.73C1097.67,-94.51 1107.58,-84.74 1116.91,-75.53\"/>\n<polygon fill=\"black\" stroke=\"black\" points=\"1119.58,-77.81 1124.24,-68.3 1114.67,-72.83 1119.58,-77.81\"/>\n</g>\n</g>\n</svg>\n",
            "text/plain": [
              "<graphviz.sources.Source at 0x7c44f76cce50>"
            ]
          },
          "metadata": {},
          "execution_count": 20
        }
      ]
    },
    {
      "cell_type": "code",
      "source": [
        "# 判断模型对于训练集的拟合程度\n",
        "score_train = clf.score(Xtrain, Ytrain)\n",
        "score_train"
      ],
      "metadata": {
        "colab": {
          "base_uri": "https://localhost:8080/"
        },
        "id": "9U7f4fXnfkTZ",
        "outputId": "9a252bd8-da55-4f95-bce2-24e1efd672c0"
      },
      "execution_count": 21,
      "outputs": [
        {
          "output_type": "execute_result",
          "data": {
            "text/plain": [
              "1.0"
            ]
          },
          "metadata": {},
          "execution_count": 21
        }
      ]
    },
    {
      "cell_type": "code",
      "source": [
        "'''\n",
        "剪支参数：max_depth, min_samples_split, min_samples_split,max_features\n",
        "解释：最大深度，最小样本数，最小分割数\n",
        "'''\n",
        "\n",
        "# 代码解释\n",
        "clf = tree.DecisionTreeClassifier(\n",
        "    criterion = 'entropy',\n",
        "    random_state = 30,\n",
        "    splitter = \"random\",\n",
        "    max_depth = 3,\n",
        "    min_samples_leaf = 10,\n",
        "    min_samples_split = 10\n",
        ")\n",
        "clf = clf.fit(Xtrain, Ytrain)\n"
      ],
      "metadata": {
        "id": "Q6NoMm3Tfurd"
      },
      "execution_count": 25,
      "outputs": []
    },
    {
      "cell_type": "code",
      "source": [
        "clf.score(Xtrain, Ytrain)"
      ],
      "metadata": {
        "colab": {
          "base_uri": "https://localhost:8080/"
        },
        "id": "f6qh4WgKgwYW",
        "outputId": "9c726b4c-0819-4c7c-f07b-21e9d63ba8b3"
      },
      "execution_count": 27,
      "outputs": [
        {
          "output_type": "execute_result",
          "data": {
            "text/plain": [
              "0.8870967741935484"
            ]
          },
          "metadata": {},
          "execution_count": 27
        }
      ]
    },
    {
      "cell_type": "code",
      "source": [
        "# 可视化\n",
        "dot_data = tree.export_graphviz(\n",
        "    clf,\n",
        "    feature_names = feature_name,\n",
        "    class_names = class_name,\n",
        "    filled = True,\n",
        "    rounded = True\n",
        ")\n",
        "graph = graphviz.Source(dot_data)\n",
        "graph"
      ],
      "metadata": {
        "colab": {
          "base_uri": "https://localhost:8080/",
          "height": 618
        },
        "id": "1TZ8YuZdg8Q0",
        "outputId": "76a6ab97-1b97-456d-b585-25b1d2099dc1"
      },
      "execution_count": 28,
      "outputs": [
        {
          "output_type": "execute_result",
          "data": {
            "image/svg+xml": "<?xml version=\"1.0\" encoding=\"UTF-8\" standalone=\"no\"?>\n<!DOCTYPE svg PUBLIC \"-//W3C//DTD SVG 1.1//EN\"\n \"http://www.w3.org/Graphics/SVG/1.1/DTD/svg11.dtd\">\n<!-- Generated by graphviz version 2.43.0 (0)\n -->\n<!-- Title: Tree Pages: 1 -->\n<svg width=\"708pt\" height=\"433pt\"\n viewBox=\"0.00 0.00 707.50 433.00\" xmlns=\"http://www.w3.org/2000/svg\" xmlns:xlink=\"http://www.w3.org/1999/xlink\">\n<g id=\"graph0\" class=\"graph\" transform=\"scale(1 1) rotate(0) translate(4 429)\">\n<title>Tree</title>\n<polygon fill=\"white\" stroke=\"transparent\" points=\"-4,4 -4,-429 703.5,-429 703.5,4 -4,4\"/>\n<!-- 0 -->\n<g id=\"node1\" class=\"node\">\n<title>0</title>\n<path fill=\"#fcfffd\" stroke=\"black\" d=\"M402,-425C402,-425 294,-425 294,-425 288,-425 282,-419 282,-413 282,-413 282,-354 282,-354 282,-348 288,-342 294,-342 294,-342 402,-342 402,-342 408,-342 414,-348 414,-354 414,-354 414,-413 414,-413 414,-419 408,-425 402,-425\"/>\n<text text-anchor=\"middle\" x=\"348\" y=\"-409.8\" font-family=\"Helvetica,sans-Serif\" font-size=\"14.00\">类黄酮 &lt;= 2.154</text>\n<text text-anchor=\"middle\" x=\"348\" y=\"-394.8\" font-family=\"Helvetica,sans-Serif\" font-size=\"14.00\">entropy = 1.538</text>\n<text text-anchor=\"middle\" x=\"348\" y=\"-379.8\" font-family=\"Helvetica,sans-Serif\" font-size=\"14.00\">samples = 124</text>\n<text text-anchor=\"middle\" x=\"348\" y=\"-364.8\" font-family=\"Helvetica,sans-Serif\" font-size=\"14.00\">value = [48, 49, 27]</text>\n<text text-anchor=\"middle\" x=\"348\" y=\"-349.8\" font-family=\"Helvetica,sans-Serif\" font-size=\"14.00\">class = 雪莉</text>\n</g>\n<!-- 1 -->\n<g id=\"node2\" class=\"node\">\n<title>1</title>\n<path fill=\"#faf8fe\" stroke=\"black\" d=\"M350,-306C350,-306 150,-306 150,-306 144,-306 138,-300 138,-294 138,-294 138,-235 138,-235 138,-229 144,-223 150,-223 150,-223 350,-223 350,-223 356,-223 362,-229 362,-235 362,-235 362,-294 362,-294 362,-300 356,-306 350,-306\"/>\n<text text-anchor=\"middle\" x=\"250\" y=\"-290.8\" font-family=\"Helvetica,sans-Serif\" font-size=\"14.00\">od280/od315稀释葡萄酒 &lt;= 2.222</text>\n<text text-anchor=\"middle\" x=\"250\" y=\"-275.8\" font-family=\"Helvetica,sans-Serif\" font-size=\"14.00\">entropy = 1.0</text>\n<text text-anchor=\"middle\" x=\"250\" y=\"-260.8\" font-family=\"Helvetica,sans-Serif\" font-size=\"14.00\">samples = 53</text>\n<text text-anchor=\"middle\" x=\"250\" y=\"-245.8\" font-family=\"Helvetica,sans-Serif\" font-size=\"14.00\">value = [0, 26, 27]</text>\n<text text-anchor=\"middle\" x=\"250\" y=\"-230.8\" font-family=\"Helvetica,sans-Serif\" font-size=\"14.00\">class = 贝尔摩德</text>\n</g>\n<!-- 0&#45;&gt;1 -->\n<g id=\"edge1\" class=\"edge\">\n<title>0&#45;&gt;1</title>\n<path fill=\"none\" stroke=\"black\" d=\"M314,-341.91C306.4,-332.83 298.26,-323.12 290.43,-313.77\"/>\n<polygon fill=\"black\" stroke=\"black\" points=\"293.04,-311.44 283.94,-306.02 287.68,-315.93 293.04,-311.44\"/>\n<text text-anchor=\"middle\" x=\"281.74\" y=\"-327.22\" font-family=\"Helvetica,sans-Serif\" font-size=\"14.00\">True</text>\n</g>\n<!-- 6 -->\n<g id=\"node7\" class=\"node\">\n<title>6</title>\n<path fill=\"#f1bd98\" stroke=\"black\" d=\"M500,-306C500,-306 392,-306 392,-306 386,-306 380,-300 380,-294 380,-294 380,-235 380,-235 380,-229 386,-223 392,-223 392,-223 500,-223 500,-223 506,-223 512,-229 512,-235 512,-235 512,-294 512,-294 512,-300 506,-306 500,-306\"/>\n<text text-anchor=\"middle\" x=\"446\" y=\"-290.8\" font-family=\"Helvetica,sans-Serif\" font-size=\"14.00\">脯氨酸 &lt;= 558.218</text>\n<text text-anchor=\"middle\" x=\"446\" y=\"-275.8\" font-family=\"Helvetica,sans-Serif\" font-size=\"14.00\">entropy = 0.909</text>\n<text text-anchor=\"middle\" x=\"446\" y=\"-260.8\" font-family=\"Helvetica,sans-Serif\" font-size=\"14.00\">samples = 71</text>\n<text text-anchor=\"middle\" x=\"446\" y=\"-245.8\" font-family=\"Helvetica,sans-Serif\" font-size=\"14.00\">value = [48, 23, 0]</text>\n<text text-anchor=\"middle\" x=\"446\" y=\"-230.8\" font-family=\"Helvetica,sans-Serif\" font-size=\"14.00\">class = 琴酒</text>\n</g>\n<!-- 0&#45;&gt;6 -->\n<g id=\"edge6\" class=\"edge\">\n<title>0&#45;&gt;6</title>\n<path fill=\"none\" stroke=\"black\" d=\"M382,-341.91C389.6,-332.83 397.74,-323.12 405.57,-313.77\"/>\n<polygon fill=\"black\" stroke=\"black\" points=\"408.32,-315.93 412.06,-306.02 402.96,-311.44 408.32,-315.93\"/>\n<text text-anchor=\"middle\" x=\"414.26\" y=\"-327.22\" font-family=\"Helvetica,sans-Serif\" font-size=\"14.00\">False</text>\n</g>\n<!-- 2 -->\n<g id=\"node3\" class=\"node\">\n<title>2</title>\n<path fill=\"#9e67eb\" stroke=\"black\" d=\"M177,-187C177,-187 81,-187 81,-187 75,-187 69,-181 69,-175 69,-175 69,-116 69,-116 69,-110 75,-104 81,-104 81,-104 177,-104 177,-104 183,-104 189,-110 189,-116 189,-116 189,-175 189,-175 189,-181 183,-187 177,-187\"/>\n<text text-anchor=\"middle\" x=\"129\" y=\"-171.8\" font-family=\"Helvetica,sans-Serif\" font-size=\"14.00\">总酚 &lt;= 1.896</text>\n<text text-anchor=\"middle\" x=\"129\" y=\"-156.8\" font-family=\"Helvetica,sans-Serif\" font-size=\"14.00\">entropy = 0.696</text>\n<text text-anchor=\"middle\" x=\"129\" y=\"-141.8\" font-family=\"Helvetica,sans-Serif\" font-size=\"14.00\">samples = 32</text>\n<text text-anchor=\"middle\" x=\"129\" y=\"-126.8\" font-family=\"Helvetica,sans-Serif\" font-size=\"14.00\">value = [0, 6, 26]</text>\n<text text-anchor=\"middle\" x=\"129\" y=\"-111.8\" font-family=\"Helvetica,sans-Serif\" font-size=\"14.00\">class = 贝尔摩德</text>\n</g>\n<!-- 1&#45;&gt;2 -->\n<g id=\"edge2\" class=\"edge\">\n<title>1&#45;&gt;2</title>\n<path fill=\"none\" stroke=\"black\" d=\"M208.02,-222.91C198.45,-213.65 188.19,-203.73 178.34,-194.21\"/>\n<polygon fill=\"black\" stroke=\"black\" points=\"180.53,-191.46 170.91,-187.02 175.66,-196.49 180.53,-191.46\"/>\n</g>\n<!-- 5 -->\n<g id=\"node6\" class=\"node\">\n<title>5</title>\n<path fill=\"#43e687\" stroke=\"black\" d=\"M312.5,-179.5C312.5,-179.5 219.5,-179.5 219.5,-179.5 213.5,-179.5 207.5,-173.5 207.5,-167.5 207.5,-167.5 207.5,-123.5 207.5,-123.5 207.5,-117.5 213.5,-111.5 219.5,-111.5 219.5,-111.5 312.5,-111.5 312.5,-111.5 318.5,-111.5 324.5,-117.5 324.5,-123.5 324.5,-123.5 324.5,-167.5 324.5,-167.5 324.5,-173.5 318.5,-179.5 312.5,-179.5\"/>\n<text text-anchor=\"middle\" x=\"266\" y=\"-164.3\" font-family=\"Helvetica,sans-Serif\" font-size=\"14.00\">entropy = 0.276</text>\n<text text-anchor=\"middle\" x=\"266\" y=\"-149.3\" font-family=\"Helvetica,sans-Serif\" font-size=\"14.00\">samples = 21</text>\n<text text-anchor=\"middle\" x=\"266\" y=\"-134.3\" font-family=\"Helvetica,sans-Serif\" font-size=\"14.00\">value = [0, 20, 1]</text>\n<text text-anchor=\"middle\" x=\"266\" y=\"-119.3\" font-family=\"Helvetica,sans-Serif\" font-size=\"14.00\">class = 雪莉</text>\n</g>\n<!-- 1&#45;&gt;5 -->\n<g id=\"edge5\" class=\"edge\">\n<title>1&#45;&gt;5</title>\n<path fill=\"none\" stroke=\"black\" d=\"M255.55,-222.91C257.01,-212.2 258.6,-200.62 260.08,-189.78\"/>\n<polygon fill=\"black\" stroke=\"black\" points=\"263.58,-190.05 261.46,-179.67 256.64,-189.1 263.58,-190.05\"/>\n</g>\n<!-- 3 -->\n<g id=\"node4\" class=\"node\">\n<title>3</title>\n<path fill=\"#9558e9\" stroke=\"black\" d=\"M108,-68C108,-68 12,-68 12,-68 6,-68 0,-62 0,-56 0,-56 0,-12 0,-12 0,-6 6,0 12,0 12,0 108,0 108,0 114,0 120,-6 120,-12 120,-12 120,-56 120,-56 120,-62 114,-68 108,-68\"/>\n<text text-anchor=\"middle\" x=\"60\" y=\"-52.8\" font-family=\"Helvetica,sans-Serif\" font-size=\"14.00\">entropy = 0.575</text>\n<text text-anchor=\"middle\" x=\"60\" y=\"-37.8\" font-family=\"Helvetica,sans-Serif\" font-size=\"14.00\">samples = 22</text>\n<text text-anchor=\"middle\" x=\"60\" y=\"-22.8\" font-family=\"Helvetica,sans-Serif\" font-size=\"14.00\">value = [0, 3, 19]</text>\n<text text-anchor=\"middle\" x=\"60\" y=\"-7.8\" font-family=\"Helvetica,sans-Serif\" font-size=\"14.00\">class = 贝尔摩德</text>\n</g>\n<!-- 2&#45;&gt;3 -->\n<g id=\"edge3\" class=\"edge\">\n<title>2&#45;&gt;3</title>\n<path fill=\"none\" stroke=\"black\" d=\"M103.31,-103.73C97.79,-94.97 91.95,-85.7 86.41,-76.91\"/>\n<polygon fill=\"black\" stroke=\"black\" points=\"89.28,-74.89 80.98,-68.3 83.35,-78.63 89.28,-74.89\"/>\n</g>\n<!-- 4 -->\n<g id=\"node5\" class=\"node\">\n<title>4</title>\n<path fill=\"#b78ef0\" stroke=\"black\" d=\"M246,-68C246,-68 150,-68 150,-68 144,-68 138,-62 138,-56 138,-56 138,-12 138,-12 138,-6 144,0 150,0 150,0 246,0 246,0 252,0 258,-6 258,-12 258,-12 258,-56 258,-56 258,-62 252,-68 246,-68\"/>\n<text text-anchor=\"middle\" x=\"198\" y=\"-52.8\" font-family=\"Helvetica,sans-Serif\" font-size=\"14.00\">entropy = 0.881</text>\n<text text-anchor=\"middle\" x=\"198\" y=\"-37.8\" font-family=\"Helvetica,sans-Serif\" font-size=\"14.00\">samples = 10</text>\n<text text-anchor=\"middle\" x=\"198\" y=\"-22.8\" font-family=\"Helvetica,sans-Serif\" font-size=\"14.00\">value = [0, 3, 7]</text>\n<text text-anchor=\"middle\" x=\"198\" y=\"-7.8\" font-family=\"Helvetica,sans-Serif\" font-size=\"14.00\">class = 贝尔摩德</text>\n</g>\n<!-- 2&#45;&gt;4 -->\n<g id=\"edge4\" class=\"edge\">\n<title>2&#45;&gt;4</title>\n<path fill=\"none\" stroke=\"black\" d=\"M154.69,-103.73C160.21,-94.97 166.05,-85.7 171.59,-76.91\"/>\n<polygon fill=\"black\" stroke=\"black\" points=\"174.65,-78.63 177.02,-68.3 168.72,-74.89 174.65,-78.63\"/>\n</g>\n<!-- 7 -->\n<g id=\"node8\" class=\"node\">\n<title>7</title>\n<path fill=\"#39e581\" stroke=\"black\" d=\"M477.5,-179.5C477.5,-179.5 384.5,-179.5 384.5,-179.5 378.5,-179.5 372.5,-173.5 372.5,-167.5 372.5,-167.5 372.5,-123.5 372.5,-123.5 372.5,-117.5 378.5,-111.5 384.5,-111.5 384.5,-111.5 477.5,-111.5 477.5,-111.5 483.5,-111.5 489.5,-117.5 489.5,-123.5 489.5,-123.5 489.5,-167.5 489.5,-167.5 489.5,-173.5 483.5,-179.5 477.5,-179.5\"/>\n<text text-anchor=\"middle\" x=\"431\" y=\"-164.3\" font-family=\"Helvetica,sans-Serif\" font-size=\"14.00\">entropy = 0.0</text>\n<text text-anchor=\"middle\" x=\"431\" y=\"-149.3\" font-family=\"Helvetica,sans-Serif\" font-size=\"14.00\">samples = 16</text>\n<text text-anchor=\"middle\" x=\"431\" y=\"-134.3\" font-family=\"Helvetica,sans-Serif\" font-size=\"14.00\">value = [0, 16, 0]</text>\n<text text-anchor=\"middle\" x=\"431\" y=\"-119.3\" font-family=\"Helvetica,sans-Serif\" font-size=\"14.00\">class = 雪莉</text>\n</g>\n<!-- 6&#45;&gt;7 -->\n<g id=\"edge7\" class=\"edge\">\n<title>6&#45;&gt;7</title>\n<path fill=\"none\" stroke=\"black\" d=\"M440.8,-222.91C439.42,-212.2 437.94,-200.62 436.55,-189.78\"/>\n<polygon fill=\"black\" stroke=\"black\" points=\"440,-189.14 435.25,-179.67 433.05,-190.03 440,-189.14\"/>\n</g>\n<!-- 8 -->\n<g id=\"node9\" class=\"node\">\n<title>8</title>\n<path fill=\"#e99356\" stroke=\"black\" d=\"M628,-187C628,-187 520,-187 520,-187 514,-187 508,-181 508,-175 508,-175 508,-116 508,-116 508,-110 514,-104 520,-104 520,-104 628,-104 628,-104 634,-104 640,-110 640,-116 640,-116 640,-175 640,-175 640,-181 634,-187 628,-187\"/>\n<text text-anchor=\"middle\" x=\"574\" y=\"-171.8\" font-family=\"Helvetica,sans-Serif\" font-size=\"14.00\">脯氨酸 &lt;= 1026.54</text>\n<text text-anchor=\"middle\" x=\"574\" y=\"-156.8\" font-family=\"Helvetica,sans-Serif\" font-size=\"14.00\">entropy = 0.55</text>\n<text text-anchor=\"middle\" x=\"574\" y=\"-141.8\" font-family=\"Helvetica,sans-Serif\" font-size=\"14.00\">samples = 55</text>\n<text text-anchor=\"middle\" x=\"574\" y=\"-126.8\" font-family=\"Helvetica,sans-Serif\" font-size=\"14.00\">value = [48, 7, 0]</text>\n<text text-anchor=\"middle\" x=\"574\" y=\"-111.8\" font-family=\"Helvetica,sans-Serif\" font-size=\"14.00\">class = 琴酒</text>\n</g>\n<!-- 6&#45;&gt;8 -->\n<g id=\"edge8\" class=\"edge\">\n<title>6&#45;&gt;8</title>\n<path fill=\"none\" stroke=\"black\" d=\"M490.41,-222.91C500.64,-213.56 511.6,-203.54 522.11,-193.93\"/>\n<polygon fill=\"black\" stroke=\"black\" points=\"524.65,-196.35 529.67,-187.02 519.93,-191.18 524.65,-196.35\"/>\n</g>\n<!-- 9 -->\n<g id=\"node10\" class=\"node\">\n<title>9</title>\n<path fill=\"#f2c09c\" stroke=\"black\" d=\"M552.5,-68C552.5,-68 459.5,-68 459.5,-68 453.5,-68 447.5,-62 447.5,-56 447.5,-56 447.5,-12 447.5,-12 447.5,-6 453.5,0 459.5,0 459.5,0 552.5,0 552.5,0 558.5,0 564.5,-6 564.5,-12 564.5,-12 564.5,-56 564.5,-56 564.5,-62 558.5,-68 552.5,-68\"/>\n<text text-anchor=\"middle\" x=\"506\" y=\"-52.8\" font-family=\"Helvetica,sans-Serif\" font-size=\"14.00\">entropy = 0.918</text>\n<text text-anchor=\"middle\" x=\"506\" y=\"-37.8\" font-family=\"Helvetica,sans-Serif\" font-size=\"14.00\">samples = 21</text>\n<text text-anchor=\"middle\" x=\"506\" y=\"-22.8\" font-family=\"Helvetica,sans-Serif\" font-size=\"14.00\">value = [14, 7, 0]</text>\n<text text-anchor=\"middle\" x=\"506\" y=\"-7.8\" font-family=\"Helvetica,sans-Serif\" font-size=\"14.00\">class = 琴酒</text>\n</g>\n<!-- 8&#45;&gt;9 -->\n<g id=\"edge9\" class=\"edge\">\n<title>8&#45;&gt;9</title>\n<path fill=\"none\" stroke=\"black\" d=\"M548.68,-103.73C543.24,-94.97 537.49,-85.7 532.02,-76.91\"/>\n<polygon fill=\"black\" stroke=\"black\" points=\"534.93,-74.95 526.68,-68.3 528.98,-78.64 534.93,-74.95\"/>\n</g>\n<!-- 10 -->\n<g id=\"node11\" class=\"node\">\n<title>10</title>\n<path fill=\"#e58139\" stroke=\"black\" d=\"M687.5,-68C687.5,-68 594.5,-68 594.5,-68 588.5,-68 582.5,-62 582.5,-56 582.5,-56 582.5,-12 582.5,-12 582.5,-6 588.5,0 594.5,0 594.5,0 687.5,0 687.5,0 693.5,0 699.5,-6 699.5,-12 699.5,-12 699.5,-56 699.5,-56 699.5,-62 693.5,-68 687.5,-68\"/>\n<text text-anchor=\"middle\" x=\"641\" y=\"-52.8\" font-family=\"Helvetica,sans-Serif\" font-size=\"14.00\">entropy = 0.0</text>\n<text text-anchor=\"middle\" x=\"641\" y=\"-37.8\" font-family=\"Helvetica,sans-Serif\" font-size=\"14.00\">samples = 34</text>\n<text text-anchor=\"middle\" x=\"641\" y=\"-22.8\" font-family=\"Helvetica,sans-Serif\" font-size=\"14.00\">value = [34, 0, 0]</text>\n<text text-anchor=\"middle\" x=\"641\" y=\"-7.8\" font-family=\"Helvetica,sans-Serif\" font-size=\"14.00\">class = 琴酒</text>\n</g>\n<!-- 8&#45;&gt;10 -->\n<g id=\"edge10\" class=\"edge\">\n<title>8&#45;&gt;10</title>\n<path fill=\"none\" stroke=\"black\" d=\"M598.95,-103.73C604.31,-94.97 609.98,-85.7 615.36,-76.91\"/>\n<polygon fill=\"black\" stroke=\"black\" points=\"618.39,-78.66 620.62,-68.3 612.42,-75 618.39,-78.66\"/>\n</g>\n</g>\n</svg>\n",
            "text/plain": [
              "<graphviz.sources.Source at 0x7c44f75b1900>"
            ]
          },
          "metadata": {},
          "execution_count": 28
        }
      ]
    },
    {
      "cell_type": "code",
      "source": [
        "clf.score(Xtest, Ytest)"
      ],
      "metadata": {
        "colab": {
          "base_uri": "https://localhost:8080/"
        },
        "id": "jzFEttwEhQM9",
        "outputId": "4f5bdb72-0d17-4494-ea20-a352ea74b3ff"
      },
      "execution_count": 29,
      "outputs": [
        {
          "output_type": "execute_result",
          "data": {
            "text/plain": [
              "0.8888888888888888"
            ]
          },
          "metadata": {},
          "execution_count": 29
        }
      ]
    },
    {
      "cell_type": "code",
      "source": [
        "clf.score(Xtrain, Ytrain)"
      ],
      "metadata": {
        "colab": {
          "base_uri": "https://localhost:8080/"
        },
        "id": "z-vp20d-hTPm",
        "outputId": "dfdd8efa-ba25-4f90-994b-36ea84eb351d"
      },
      "execution_count": 30,
      "outputs": [
        {
          "output_type": "execute_result",
          "data": {
            "text/plain": [
              "0.8870967741935484"
            ]
          },
          "metadata": {},
          "execution_count": 30
        }
      ]
    },
    {
      "cell_type": "markdown",
      "source": [
        "### 2.1 确定最优的参数"
      ],
      "metadata": {
        "id": "y5jdoPzohb7a"
      }
    },
    {
      "cell_type": "code",
      "source": [
        "import matplotlib.pyplot as plt\n",
        "\n",
        "test = []\n",
        "for i in range(10):\n",
        "  clf = tree.DecisionTreeClassifier(\n",
        "      criterion = 'entropy',\n",
        "      random_state = 30,\n",
        "      splitter = \"random\",\n",
        "      max_depth = i+1\n",
        "  )\n",
        "  clf = clf.fit(Xtrain, Ytrain)\n",
        "  score = clf.score(Xtest, Ytest)\n",
        "  test.append(score)\n",
        "\n",
        "plt.plot(range(1,11), test, color = 'r', label = 'max_depth')\n",
        "plt.legend()\n",
        "plt.show()\n"
      ],
      "metadata": {
        "colab": {
          "base_uri": "https://localhost:8080/",
          "height": 430
        },
        "id": "RFyOZQl8hfH4",
        "outputId": "23a68750-e08a-4b58-8f40-f26713f07510"
      },
      "execution_count": 31,
      "outputs": [
        {
          "output_type": "display_data",
          "data": {
            "text/plain": [
              "<Figure size 640x480 with 1 Axes>"
            ],
            "image/png": "[encoded data removed]"
          },
          "metadata": {}
        }
      ]
    },
    {
      "cell_type": "code",
      "source": [
        "clf.predict(Xtest)"
      ],
      "metadata": {
        "colab": {
          "base_uri": "https://localhost:8080/"
        },
        "id": "11CPathsib4i",
        "outputId": "fa5e1f1d-5021-4ab5-d842-9afab839d0ef"
      },
      "execution_count": 32,
      "outputs": [
        {
          "output_type": "execute_result",
          "data": {
            "text/plain": [
              "array([2, 1, 2, 1, 1, 1, 2, 0, 2, 2, 2, 0, 1, 0, 2, 1, 0, 1, 0, 1, 0, 0,\n",
              "       1, 0, 0, 2, 2, 2, 2, 1, 2, 1, 1, 2, 2, 2, 2, 2, 0, 0, 1, 1, 1, 0,\n",
              "       2, 1, 2, 2, 2, 2, 1, 1, 1, 1])"
            ]
          },
          "metadata": {},
          "execution_count": 32
        }
      ]
    },
    {
      "cell_type": "code",
      "source": [
        "clf.apply(Xtest)"
      ],
      "metadata": {
        "colab": {
          "base_uri": "https://localhost:8080/"
        },
        "id": "WHEGe8G3ieJ0",
        "outputId": "d8bd6f45-d6d9-4175-bd9d-a7b4eb6aba0b"
      },
      "execution_count": 33,
      "outputs": [
        {
          "output_type": "execute_result",
          "data": {
            "text/plain": [
              "array([ 4, 14,  7, 11, 11, 16,  4, 25,  4,  4,  4, 26,  6, 25,  4, 14, 25,\n",
              "       11, 25, 11, 26, 25, 16, 25, 25,  4,  4,  4,  4, 11, 10,  8, 11,  4,\n",
              "        4,  4,  4,  4, 25, 26, 11, 16, 11, 26,  4, 11,  7,  4,  4,  4, 11,\n",
              "       11, 11, 11])"
            ]
          },
          "metadata": {},
          "execution_count": 33
        }
      ]
    },
    {
      "cell_type": "code",
      "source": [],
      "metadata": {
        "id": "q9Ko2sR2ig9E"
      },
      "execution_count": null,
      "outputs": []
    }
  ],
  "metadata": {
    "language_info": {
      "name": "python"
    },
    "colab": {
      "provenance": []
    },
    "kernelspec": {
      "name": "python3",
      "display_name": "Python 3"
    }
  },
  "nbformat": 4,
  "nbformat_minor": 0
}